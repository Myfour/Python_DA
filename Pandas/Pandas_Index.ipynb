{
 "cells": [
  {
   "cell_type": "code",
   "execution_count": 1,
   "metadata": {},
   "outputs": [],
   "source": [
    "import numpy as np\n",
    "import pandas as pd"
   ]
  },
  {
   "cell_type": "code",
   "execution_count": 3,
   "metadata": {},
   "outputs": [
    {
     "data": {
      "text/plain": [
       "pandas.core.indexes.range.RangeIndex"
      ]
     },
     "execution_count": 3,
     "metadata": {},
     "output_type": "execute_result"
    }
   ],
   "source": [
    "s=pd.Series(np.random.randn(5))\n",
    "type(s.index)"
   ]
  },
  {
   "cell_type": "code",
   "execution_count": 4,
   "metadata": {},
   "outputs": [
    {
     "data": {
      "text/plain": [
       "RangeIndex(start=0, stop=5, step=1)"
      ]
     },
     "execution_count": 4,
     "metadata": {},
     "output_type": "execute_result"
    }
   ],
   "source": [
    "s.index"
   ]
  },
  {
   "cell_type": "code",
   "execution_count": 5,
   "metadata": {},
   "outputs": [
    {
     "data": {
      "text/plain": [
       "0"
      ]
     },
     "execution_count": 5,
     "metadata": {},
     "output_type": "execute_result"
    }
   ],
   "source": [
    "s.index[0]"
   ]
  },
  {
   "cell_type": "code",
   "execution_count": 7,
   "metadata": {},
   "outputs": [
    {
     "data": {
      "text/plain": [
       "RangeIndex(start=0, stop=3, step=1)"
      ]
     },
     "execution_count": 7,
     "metadata": {},
     "output_type": "execute_result"
    }
   ],
   "source": [
    "s.index[:3]"
   ]
  },
  {
   "cell_type": "code",
   "execution_count": 9,
   "metadata": {},
   "outputs": [
    {
     "data": {
      "text/plain": [
       "Int64Index([3, 4], dtype='int64')"
      ]
     },
     "execution_count": 9,
     "metadata": {},
     "output_type": "execute_result"
    }
   ],
   "source": [
    "s.index[s.index>2]"
   ]
  },
  {
   "cell_type": "code",
   "execution_count": 11,
   "metadata": {},
   "outputs": [
    {
     "data": {
      "text/plain": [
       "a    0.983126\n",
       "b   -0.142827\n",
       "c    0.860909\n",
       "d   -0.503406\n",
       "e    1.390406\n",
       "dtype: float64"
      ]
     },
     "execution_count": 11,
     "metadata": {},
     "output_type": "execute_result"
    }
   ],
   "source": [
    "s.index=['a','b','c','d','e']\n",
    "s"
   ]
  },
  {
   "cell_type": "code",
   "execution_count": 12,
   "metadata": {},
   "outputs": [
    {
     "data": {
      "text/plain": [
       "Index(['physics', 'python', 'math', 'english'], dtype='object')"
      ]
     },
     "execution_count": 12,
     "metadata": {},
     "output_type": "execute_result"
    }
   ],
   "source": [
    "# 创建Index对象\n",
    "ind=pd.Index(['physics','python','math','english'])\n",
    "ind"
   ]
  },
  {
   "cell_type": "code",
   "execution_count": 14,
   "metadata": {},
   "outputs": [
    {
     "data": {
      "text/plain": [
       "physics    100\n",
       "python      90\n",
       "math        80\n",
       "english     77\n",
       "dtype: int64"
      ]
     },
     "execution_count": 14,
     "metadata": {},
     "output_type": "execute_result"
    }
   ],
   "source": [
    "s=pd.Series([100,90,80,77],index=ind)\n",
    "s"
   ]
  },
  {
   "cell_type": "code",
   "execution_count": 21,
   "metadata": {},
   "outputs": [
    {
     "data": {
      "text/html": [
       "<div>\n",
       "<style scoped>\n",
       "    .dataframe tbody tr th:only-of-type {\n",
       "        vertical-align: middle;\n",
       "    }\n",
       "\n",
       "    .dataframe tbody tr th {\n",
       "        vertical-align: top;\n",
       "    }\n",
       "\n",
       "    .dataframe thead th {\n",
       "        text-align: right;\n",
       "    }\n",
       "</style>\n",
       "<table border=\"1\" class=\"dataframe\">\n",
       "  <thead>\n",
       "    <tr style=\"text-align: right;\">\n",
       "      <th></th>\n",
       "      <th>soochow</th>\n",
       "      <th>tsinghua</th>\n",
       "    </tr>\n",
       "  </thead>\n",
       "  <tbody>\n",
       "    <tr>\n",
       "      <th>physics</th>\n",
       "      <td>100</td>\n",
       "      <td>98</td>\n",
       "    </tr>\n",
       "    <tr>\n",
       "      <th>python</th>\n",
       "      <td>90</td>\n",
       "      <td>34</td>\n",
       "    </tr>\n",
       "    <tr>\n",
       "      <th>math</th>\n",
       "      <td>80</td>\n",
       "      <td>83</td>\n",
       "    </tr>\n",
       "    <tr>\n",
       "      <th>english</th>\n",
       "      <td>77</td>\n",
       "      <td>49</td>\n",
       "    </tr>\n",
       "  </tbody>\n",
       "</table>\n",
       "</div>"
      ],
      "text/plain": [
       "         soochow  tsinghua\n",
       "physics      100        98\n",
       "python        90        34\n",
       "math          80        83\n",
       "english       77        49"
      ]
     },
     "execution_count": 21,
     "metadata": {},
     "output_type": "execute_result"
    }
   ],
   "source": [
    "d=pd.DataFrame({'soochow':s,'tsinghua':[98,34,83,49]},index=ind)\n",
    "d"
   ]
  },
  {
   "cell_type": "code",
   "execution_count": 24,
   "metadata": {},
   "outputs": [
    {
     "data": {
      "text/plain": [
       "['T',\n",
       " '_MultiIndex__bounds',\n",
       " '__abs__',\n",
       " '__add__',\n",
       " '__and__',\n",
       " '__array__',\n",
       " '__array_priority__',\n",
       " '__array_wrap__',\n",
       " '__bool__',\n",
       " '__bytes__',\n",
       " '__class__',\n",
       " '__contains__',\n",
       " '__copy__',\n",
       " '__deepcopy__',\n",
       " '__delattr__',\n",
       " '__dict__',\n",
       " '__dir__',\n",
       " '__divmod__',\n",
       " '__doc__',\n",
       " '__eq__',\n",
       " '__floordiv__',\n",
       " '__format__',\n",
       " '__ge__',\n",
       " '__getattribute__',\n",
       " '__getitem__',\n",
       " '__getslice__',\n",
       " '__gt__',\n",
       " '__hash__',\n",
       " '__iadd__',\n",
       " '__init__',\n",
       " '__init_subclass__',\n",
       " '__inv__',\n",
       " '__isub__',\n",
       " '__iter__',\n",
       " '__le__',\n",
       " '__len__',\n",
       " '__lt__',\n",
       " '__mod__',\n",
       " '__module__',\n",
       " '__mul__',\n",
       " '__ne__',\n",
       " '__neg__',\n",
       " '__new__',\n",
       " '__nonzero__',\n",
       " '__or__',\n",
       " '__pos__',\n",
       " '__pow__',\n",
       " '__radd__',\n",
       " '__reduce__',\n",
       " '__reduce_ex__',\n",
       " '__repr__',\n",
       " '__rfloordiv__',\n",
       " '__rmul__',\n",
       " '__rpow__',\n",
       " '__rsub__',\n",
       " '__rtruediv__',\n",
       " '__setattr__',\n",
       " '__setitem__',\n",
       " '__setstate__',\n",
       " '__sizeof__',\n",
       " '__str__',\n",
       " '__sub__',\n",
       " '__subclasshook__',\n",
       " '__truediv__',\n",
       " '__unicode__',\n",
       " '__weakref__',\n",
       " '__xor__',\n",
       " '_accessors',\n",
       " '_add_comparison_methods',\n",
       " '_add_logical_methods',\n",
       " '_add_logical_methods_disabled',\n",
       " '_add_numeric_methods',\n",
       " '_add_numeric_methods_add_sub_disabled',\n",
       " '_add_numeric_methods_binary',\n",
       " '_add_numeric_methods_disabled',\n",
       " '_add_numeric_methods_unary',\n",
       " '_assert_can_do_op',\n",
       " '_assert_can_do_setop',\n",
       " '_assert_take_fillable',\n",
       " '_attributes',\n",
       " '_bounds',\n",
       " '_can_hold_identifiers_and_holds_name',\n",
       " '_can_hold_na',\n",
       " '_can_reindex',\n",
       " '_cleanup',\n",
       " '_coerce_scalar_to_index',\n",
       " '_coerce_to_ndarray',\n",
       " '_comparables',\n",
       " '_concat',\n",
       " '_concat_same_dtype',\n",
       " '_constructor',\n",
       " '_convert_arr_indexer',\n",
       " '_convert_can_do_setop',\n",
       " '_convert_for_op',\n",
       " '_convert_index_indexer',\n",
       " '_convert_list_indexer',\n",
       " '_convert_listlike_indexer',\n",
       " '_convert_scalar_indexer',\n",
       " '_convert_slice_indexer',\n",
       " '_convert_tolerance',\n",
       " '_data',\n",
       " '_deepcopy_if_needed',\n",
       " '_defer_to_indexing',\n",
       " '_deprecations',\n",
       " '_dir_additions',\n",
       " '_dir_deletions',\n",
       " '_drop_from_level',\n",
       " '_engine',\n",
       " '_engine_type',\n",
       " '_evaluate_compare',\n",
       " '_evaluate_with_datetime_like',\n",
       " '_evaluate_with_timedelta_like',\n",
       " '_filter_indexer_tolerance',\n",
       " '_format_attrs',\n",
       " '_format_data',\n",
       " '_format_native_types',\n",
       " '_format_space',\n",
       " '_format_with_header',\n",
       " '_formatter_func',\n",
       " '_from_elements',\n",
       " '_get_attributes_dict',\n",
       " '_get_consensus_name',\n",
       " '_get_fill_indexer',\n",
       " '_get_fill_indexer_searchsorted',\n",
       " '_get_grouper_for_level',\n",
       " '_get_labels_for_sorting',\n",
       " '_get_level_indexer',\n",
       " '_get_level_number',\n",
       " '_get_level_values',\n",
       " '_get_loc_only_exact_matches',\n",
       " '_get_names',\n",
       " '_get_nearest_indexer',\n",
       " '_get_string_slice',\n",
       " '_get_unique_index',\n",
       " '_has_complex_internals',\n",
       " '_hashed_indexing_key',\n",
       " '_hashed_values',\n",
       " '_have_mixed_levels',\n",
       " '_id',\n",
       " '_infer_as_myclass',\n",
       " '_inferred_type_levels',\n",
       " '_inner_indexer',\n",
       " '_invalid_indexer',\n",
       " '_is_memory_usage_qualified',\n",
       " '_is_numeric_dtype',\n",
       " '_is_strictly_monotonic_decreasing',\n",
       " '_is_strictly_monotonic_increasing',\n",
       " '_is_v1',\n",
       " '_is_v2',\n",
       " '_isnan',\n",
       " '_join_level',\n",
       " '_join_monotonic',\n",
       " '_join_multi',\n",
       " '_join_non_unique',\n",
       " '_join_precedence',\n",
       " '_labels',\n",
       " '_left_indexer',\n",
       " '_left_indexer_unique',\n",
       " '_levels',\n",
       " '_map_values',\n",
       " '_maybe_cast_indexer',\n",
       " '_maybe_cast_slice_bound',\n",
       " '_maybe_promote',\n",
       " '_maybe_update_attributes',\n",
       " '_mpl_repr',\n",
       " '_na_value',\n",
       " '_names',\n",
       " '_nan_idxs',\n",
       " '_nbytes',\n",
       " '_ndarray_values',\n",
       " '_outer_indexer',\n",
       " '_partial_tup_index',\n",
       " '_reduce',\n",
       " '_reference_duplicate_name',\n",
       " '_reindex_non_unique',\n",
       " '_reset_cache',\n",
       " '_reset_identity',\n",
       " '_scalar_data_error',\n",
       " '_searchsorted_monotonic',\n",
       " '_set_labels',\n",
       " '_set_levels',\n",
       " '_set_names',\n",
       " '_shallow_copy',\n",
       " '_shallow_copy_with_infer',\n",
       " '_simple_new',\n",
       " '_sort_levels_monotonic',\n",
       " '_string_data_error',\n",
       " '_summary',\n",
       " '_to_embed',\n",
       " '_to_safe_for_reshape',\n",
       " '_try_convert_to_int_index',\n",
       " '_tuples',\n",
       " '_typ',\n",
       " '_unpickle_compat',\n",
       " '_update_inplace',\n",
       " '_validate_for_numeric_binop',\n",
       " '_validate_for_numeric_unaryop',\n",
       " '_validate_index_level',\n",
       " '_validate_indexer',\n",
       " '_validate_names',\n",
       " '_values',\n",
       " '_verify_integrity',\n",
       " '_wrap_joined_index',\n",
       " '_wrap_union_result',\n",
       " 'all',\n",
       " 'any',\n",
       " 'append',\n",
       " 'argmax',\n",
       " 'argmin',\n",
       " 'argsort',\n",
       " 'asi8',\n",
       " 'asof',\n",
       " 'asof_locs',\n",
       " 'astype',\n",
       " 'base',\n",
       " 'contains',\n",
       " 'copy',\n",
       " 'data',\n",
       " 'delete',\n",
       " 'difference',\n",
       " 'drop',\n",
       " 'drop_duplicates',\n",
       " 'droplevel',\n",
       " 'dropna',\n",
       " 'dtype',\n",
       " 'dtype_str',\n",
       " 'duplicated',\n",
       " 'empty',\n",
       " 'equal_levels',\n",
       " 'equals',\n",
       " 'factorize',\n",
       " 'fillna',\n",
       " 'flags',\n",
       " 'format',\n",
       " 'from_arrays',\n",
       " 'from_product',\n",
       " 'from_tuples',\n",
       " 'get_duplicates',\n",
       " 'get_indexer',\n",
       " 'get_indexer_for',\n",
       " 'get_indexer_non_unique',\n",
       " 'get_level_values',\n",
       " 'get_loc',\n",
       " 'get_loc_level',\n",
       " 'get_locs',\n",
       " 'get_major_bounds',\n",
       " 'get_slice_bound',\n",
       " 'get_value',\n",
       " 'get_values',\n",
       " 'groupby',\n",
       " 'has_duplicates',\n",
       " 'hasnans',\n",
       " 'holds_integer',\n",
       " 'identical',\n",
       " 'inferred_type',\n",
       " 'insert',\n",
       " 'intersection',\n",
       " 'is_',\n",
       " 'is_all_dates',\n",
       " 'is_boolean',\n",
       " 'is_categorical',\n",
       " 'is_floating',\n",
       " 'is_integer',\n",
       " 'is_interval',\n",
       " 'is_lexsorted',\n",
       " 'is_lexsorted_for_tuple',\n",
       " 'is_mixed',\n",
       " 'is_monotonic',\n",
       " 'is_monotonic_decreasing',\n",
       " 'is_monotonic_increasing',\n",
       " 'is_numeric',\n",
       " 'is_object',\n",
       " 'is_type_compatible',\n",
       " 'is_unique',\n",
       " 'isin',\n",
       " 'isna',\n",
       " 'isnull',\n",
       " 'item',\n",
       " 'itemsize',\n",
       " 'join',\n",
       " 'labels',\n",
       " 'levels',\n",
       " 'levshape',\n",
       " 'lexsort_depth',\n",
       " 'map',\n",
       " 'max',\n",
       " 'memory_usage',\n",
       " 'min',\n",
       " 'name',\n",
       " 'names',\n",
       " 'nbytes',\n",
       " 'ndim',\n",
       " 'nlevels',\n",
       " 'notna',\n",
       " 'notnull',\n",
       " 'nunique',\n",
       " 'putmask',\n",
       " 'ravel',\n",
       " 'reindex',\n",
       " 'remove_unused_levels',\n",
       " 'rename',\n",
       " 'reorder_levels',\n",
       " 'repeat',\n",
       " 'searchsorted',\n",
       " 'set_labels',\n",
       " 'set_levels',\n",
       " 'set_names',\n",
       " 'set_value',\n",
       " 'shape',\n",
       " 'shift',\n",
       " 'size',\n",
       " 'slice_indexer',\n",
       " 'slice_locs',\n",
       " 'sort',\n",
       " 'sort_values',\n",
       " 'sortlevel',\n",
       " 'str',\n",
       " 'strides',\n",
       " 'summary',\n",
       " 'swaplevel',\n",
       " 'symmetric_difference',\n",
       " 'take',\n",
       " 'to_frame',\n",
       " 'to_hierarchical',\n",
       " 'to_native_types',\n",
       " 'to_series',\n",
       " 'tolist',\n",
       " 'transpose',\n",
       " 'truncate',\n",
       " 'union',\n",
       " 'unique',\n",
       " 'value_counts',\n",
       " 'values',\n",
       " 'view',\n",
       " 'where']"
      ]
     },
     "execution_count": 24,
     "metadata": {},
     "output_type": "execute_result"
    }
   ],
   "source": [
    "# 多级索引MultiIndex\n",
    "dir(pd.MultiIndex)"
   ]
  },
  {
   "cell_type": "code",
   "execution_count": 25,
   "metadata": {},
   "outputs": [],
   "source": [
    "pd.MultiIndex.from_tuples?"
   ]
  },
  {
   "cell_type": "code",
   "execution_count": 26,
   "metadata": {},
   "outputs": [
    {
     "data": {
      "text/plain": [
       "MultiIndex(levels=[['China', 'USA'], ['Beijing', 'Chicago', 'HongKong', 'New York', 'SanFran']],\n",
       "           labels=[[0, 0, 1, 1, 1], [0, 2, 1, 3, 4]])"
      ]
     },
     "execution_count": 26,
     "metadata": {},
     "output_type": "execute_result"
    }
   ],
   "source": [
    "cities_index=[('China','Beijing'),('China','HongKong'),('USA','Chicago'),('USA','New York'),('USA','SanFran')]\n",
    "cities=pd.MultiIndex.from_tuples(cities_index)\n",
    "cities"
   ]
  },
  {
   "cell_type": "code",
   "execution_count": 27,
   "metadata": {},
   "outputs": [
    {
     "data": {
      "text/plain": [
       "MultiIndex(levels=[['China', 'USA'], ['Beijing', 'Chicago', 'HongKong', 'New York', 'SanFran']],\n",
       "           labels=[[0, 0, 1, 1, 1], [0, 1, 2, 3, 4]])"
      ]
     },
     "execution_count": 27,
     "metadata": {},
     "output_type": "execute_result"
    }
   ],
   "source": [
    "city_arr=np.array([['China','China','USA','USA','USA'],['Beijing','Chicago','HongKong','New York','SanFran']])\n",
    "cities2=pd.MultiIndex.from_arrays(city_arr)\n",
    "cities2"
   ]
  },
  {
   "cell_type": "code",
   "execution_count": 28,
   "metadata": {},
   "outputs": [
    {
     "data": {
      "text/plain": [
       "MultiIndex(levels=[['a', 'b'], [100, 200]],\n",
       "           labels=[[0, 0, 1, 1], [0, 1, 0, 1]])"
      ]
     },
     "execution_count": 28,
     "metadata": {},
     "output_type": "execute_result"
    }
   ],
   "source": [
    "pd.MultiIndex.from_product([['a','b'],[100,200]])"
   ]
  },
  {
   "cell_type": "code",
   "execution_count": 31,
   "metadata": {},
   "outputs": [
    {
     "data": {
      "text/plain": [
       "MultiIndex(levels=[['a', 'b'], [100, 200]],\n",
       "           labels=[[0, 0, 1, 1], [0, 1, 0, 1]])"
      ]
     },
     "execution_count": 31,
     "metadata": {},
     "output_type": "execute_result"
    }
   ],
   "source": [
    "# 实例化MultiIndex\n",
    "pd.MultiIndex(levels=[['a','b'],[100,200]],labels=[[0,0,1,1],[0,1,0,1]])  # levels值0级标签索引的值以及1级的值，labels值0级标签的位置，和1级标签位置"
   ]
  },
  {
   "cell_type": "code",
   "execution_count": 32,
   "metadata": {},
   "outputs": [
    {
     "data": {
      "text/plain": [
       "MultiIndex(levels=[['a', 'b'], [100, 200]],\n",
       "           labels=[[0, 0, 1, 1], [0, 1, 0, 1]])"
      ]
     },
     "execution_count": 32,
     "metadata": {},
     "output_type": "execute_result"
    }
   ],
   "source": [
    "pd.Index([('a',100),('a',200),('b',100),('b',200)])"
   ]
  },
  {
   "cell_type": "code",
   "execution_count": 36,
   "metadata": {},
   "outputs": [
    {
     "data": {
      "text/plain": [
       "MultiIndex(levels=[['beijing', 'guangzhou', 'shanghai'], [2015, 2016]],\n",
       "           labels=[[2, 2, 0, 0, 1, 1], [0, 1, 0, 1, 0, 1]])"
      ]
     },
     "execution_count": 36,
     "metadata": {},
     "output_type": "execute_result"
    }
   ],
   "source": [
    "# 实际使用MultiIndex\n",
    "gdp_index=[('shanghai',2015),('shanghai',2016),('beijing',2015),('beijing',2016),('guangzhou',2015),('guangzhou',2016)]\n",
    "gdp_mind=pd.MultiIndex.from_tuples(gdp_index)\n",
    "gdp_mind"
   ]
  },
  {
   "cell_type": "code",
   "execution_count": 34,
   "metadata": {},
   "outputs": [
    {
     "data": {
      "text/plain": [
       "shanghai   2015    25300\n",
       "           2016    27466\n",
       "beijing    2015    23000\n",
       "           2016    24899\n",
       "guangzhou  2015    18100\n",
       "           2016    19611\n",
       "dtype: int64"
      ]
     },
     "execution_count": 34,
     "metadata": {},
     "output_type": "execute_result"
    }
   ],
   "source": [
    "gdp3=pd.Series([25300,27466,23000,24899,18100,19611],index=gdp_mind)\n",
    "gdp3"
   ]
  },
  {
   "cell_type": "code",
   "execution_count": 37,
   "metadata": {},
   "outputs": [
    {
     "data": {
      "text/html": [
       "<div>\n",
       "<style scoped>\n",
       "    .dataframe tbody tr th:only-of-type {\n",
       "        vertical-align: middle;\n",
       "    }\n",
       "\n",
       "    .dataframe tbody tr th {\n",
       "        vertical-align: top;\n",
       "    }\n",
       "\n",
       "    .dataframe thead th {\n",
       "        text-align: right;\n",
       "    }\n",
       "</style>\n",
       "<table border=\"1\" class=\"dataframe\">\n",
       "  <thead>\n",
       "    <tr style=\"text-align: right;\">\n",
       "      <th></th>\n",
       "      <th>2015</th>\n",
       "      <th>2016</th>\n",
       "    </tr>\n",
       "  </thead>\n",
       "  <tbody>\n",
       "    <tr>\n",
       "      <th>beijing</th>\n",
       "      <td>23000</td>\n",
       "      <td>24899</td>\n",
       "    </tr>\n",
       "    <tr>\n",
       "      <th>guangzhou</th>\n",
       "      <td>18100</td>\n",
       "      <td>19611</td>\n",
       "    </tr>\n",
       "    <tr>\n",
       "      <th>shanghai</th>\n",
       "      <td>25300</td>\n",
       "      <td>27466</td>\n",
       "    </tr>\n",
       "  </tbody>\n",
       "</table>\n",
       "</div>"
      ],
      "text/plain": [
       "            2015   2016\n",
       "beijing    23000  24899\n",
       "guangzhou  18100  19611\n",
       "shanghai   25300  27466"
      ]
     },
     "execution_count": 37,
     "metadata": {},
     "output_type": "execute_result"
    }
   ],
   "source": [
    "gdp3.unstack()  # 低维转高维"
   ]
  },
  {
   "cell_type": "code",
   "execution_count": 38,
   "metadata": {},
   "outputs": [
    {
     "data": {
      "text/plain": [
       "beijing    2015    23000\n",
       "           2016    24899\n",
       "guangzhou  2015    18100\n",
       "           2016    19611\n",
       "shanghai   2015    25300\n",
       "           2016    27466\n",
       "dtype: int64"
      ]
     },
     "execution_count": 38,
     "metadata": {},
     "output_type": "execute_result"
    }
   ],
   "source": [
    "gdp3.unstack().stack()  # 高维转低维"
   ]
  },
  {
   "cell_type": "code",
   "execution_count": null,
   "metadata": {},
   "outputs": [],
   "source": []
  }
 ],
 "metadata": {
  "kernelspec": {
   "display_name": "Python 3",
   "language": "python",
   "name": "python3"
  },
  "language_info": {
   "codemirror_mode": {
    "name": "ipython",
    "version": 3
   },
   "file_extension": ".py",
   "mimetype": "text/x-python",
   "name": "python",
   "nbconvert_exporter": "python",
   "pygments_lexer": "ipython3",
   "version": "3.6.6"
  }
 },
 "nbformat": 4,
 "nbformat_minor": 2
}
