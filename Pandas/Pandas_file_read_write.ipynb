{
 "cells": [
  {
   "cell_type": "code",
   "execution_count": 1,
   "metadata": {},
   "outputs": [],
   "source": [
    "import numpy as np\n",
    "import pandas as pd"
   ]
  },
  {
   "cell_type": "code",
   "execution_count": 2,
   "metadata": {},
   "outputs": [],
   "source": [
    "pd.read_csv?"
   ]
  },
  {
   "cell_type": "code",
   "execution_count": 3,
   "metadata": {},
   "outputs": [
    {
     "name": "stdout",
     "output_type": "stream",
     "text": [
      "City_Name,GDP,Population\n",
      "SHANGHAI,27466.15 ,2419.70 \n",
      "BEIJING,24899.30 ,2172.90 \n",
      "GUANGZHOU,19610.90 ,1350.11 \n",
      "SHENZHEN,19492.60 ,1137.87 \n",
      "TIANJIN,17885.39 ,1562.12 \n",
      "CHONGQING,17558.76 ,3016.55 \n",
      "SUZHOU,15475.09 ,1375.00 \n",
      "CHENGDU,12170.20 ,1591.76 \n",
      "\n"
     ]
    }
   ],
   "source": [
    "with open('gdp-population.csv') as file:\n",
    "    print(file.read())"
   ]
  },
  {
   "cell_type": "code",
   "execution_count": 4,
   "metadata": {},
   "outputs": [
    {
     "data": {
      "text/html": [
       "<div>\n",
       "<style scoped>\n",
       "    .dataframe tbody tr th:only-of-type {\n",
       "        vertical-align: middle;\n",
       "    }\n",
       "\n",
       "    .dataframe tbody tr th {\n",
       "        vertical-align: top;\n",
       "    }\n",
       "\n",
       "    .dataframe thead th {\n",
       "        text-align: right;\n",
       "    }\n",
       "</style>\n",
       "<table border=\"1\" class=\"dataframe\">\n",
       "  <thead>\n",
       "    <tr style=\"text-align: right;\">\n",
       "      <th></th>\n",
       "      <th>City_Name</th>\n",
       "      <th>GDP</th>\n",
       "      <th>Population</th>\n",
       "    </tr>\n",
       "  </thead>\n",
       "  <tbody>\n",
       "    <tr>\n",
       "      <th>0</th>\n",
       "      <td>SHANGHAI</td>\n",
       "      <td>27466.15</td>\n",
       "      <td>2419.70</td>\n",
       "    </tr>\n",
       "    <tr>\n",
       "      <th>1</th>\n",
       "      <td>BEIJING</td>\n",
       "      <td>24899.30</td>\n",
       "      <td>2172.90</td>\n",
       "    </tr>\n",
       "    <tr>\n",
       "      <th>2</th>\n",
       "      <td>GUANGZHOU</td>\n",
       "      <td>19610.90</td>\n",
       "      <td>1350.11</td>\n",
       "    </tr>\n",
       "    <tr>\n",
       "      <th>3</th>\n",
       "      <td>SHENZHEN</td>\n",
       "      <td>19492.60</td>\n",
       "      <td>1137.87</td>\n",
       "    </tr>\n",
       "    <tr>\n",
       "      <th>4</th>\n",
       "      <td>TIANJIN</td>\n",
       "      <td>17885.39</td>\n",
       "      <td>1562.12</td>\n",
       "    </tr>\n",
       "    <tr>\n",
       "      <th>5</th>\n",
       "      <td>CHONGQING</td>\n",
       "      <td>17558.76</td>\n",
       "      <td>3016.55</td>\n",
       "    </tr>\n",
       "    <tr>\n",
       "      <th>6</th>\n",
       "      <td>SUZHOU</td>\n",
       "      <td>15475.09</td>\n",
       "      <td>1375.00</td>\n",
       "    </tr>\n",
       "    <tr>\n",
       "      <th>7</th>\n",
       "      <td>CHENGDU</td>\n",
       "      <td>12170.20</td>\n",
       "      <td>1591.76</td>\n",
       "    </tr>\n",
       "  </tbody>\n",
       "</table>\n",
       "</div>"
      ],
      "text/plain": [
       "   City_Name       GDP  Population\n",
       "0   SHANGHAI  27466.15     2419.70\n",
       "1    BEIJING  24899.30     2172.90\n",
       "2  GUANGZHOU  19610.90     1350.11\n",
       "3   SHENZHEN  19492.60     1137.87\n",
       "4    TIANJIN  17885.39     1562.12\n",
       "5  CHONGQING  17558.76     3016.55\n",
       "6     SUZHOU  15475.09     1375.00\n",
       "7    CHENGDU  12170.20     1591.76"
      ]
     },
     "execution_count": 4,
     "metadata": {},
     "output_type": "execute_result"
    }
   ],
   "source": [
    "gdp=pd.read_csv('gdp-population.csv')\n",
    "gdp"
   ]
  },
  {
   "cell_type": "code",
   "execution_count": 5,
   "metadata": {},
   "outputs": [
    {
     "data": {
      "text/plain": [
       "Index(['City_Name', 'GDP', 'Population'], dtype='object')"
      ]
     },
     "execution_count": 5,
     "metadata": {},
     "output_type": "execute_result"
    }
   ],
   "source": [
    "gdp.columns"
   ]
  },
  {
   "cell_type": "code",
   "execution_count": 6,
   "metadata": {},
   "outputs": [
    {
     "data": {
      "text/plain": [
       "RangeIndex(start=0, stop=8, step=1)"
      ]
     },
     "execution_count": 6,
     "metadata": {},
     "output_type": "execute_result"
    }
   ],
   "source": [
    "gdp.index"
   ]
  },
  {
   "cell_type": "code",
   "execution_count": 7,
   "metadata": {},
   "outputs": [
    {
     "data": {
      "text/html": [
       "<div>\n",
       "<style scoped>\n",
       "    .dataframe tbody tr th:only-of-type {\n",
       "        vertical-align: middle;\n",
       "    }\n",
       "\n",
       "    .dataframe tbody tr th {\n",
       "        vertical-align: top;\n",
       "    }\n",
       "\n",
       "    .dataframe thead th {\n",
       "        text-align: right;\n",
       "    }\n",
       "</style>\n",
       "<table border=\"1\" class=\"dataframe\">\n",
       "  <thead>\n",
       "    <tr style=\"text-align: right;\">\n",
       "      <th></th>\n",
       "      <th>CITY</th>\n",
       "      <th>GDP</th>\n",
       "      <th>POP</th>\n",
       "    </tr>\n",
       "  </thead>\n",
       "  <tbody>\n",
       "    <tr>\n",
       "      <th>0</th>\n",
       "      <td>City_Name</td>\n",
       "      <td>GDP</td>\n",
       "      <td>Population</td>\n",
       "    </tr>\n",
       "    <tr>\n",
       "      <th>1</th>\n",
       "      <td>SHANGHAI</td>\n",
       "      <td>27466.15</td>\n",
       "      <td>2419.70</td>\n",
       "    </tr>\n",
       "    <tr>\n",
       "      <th>2</th>\n",
       "      <td>BEIJING</td>\n",
       "      <td>24899.30</td>\n",
       "      <td>2172.90</td>\n",
       "    </tr>\n",
       "    <tr>\n",
       "      <th>3</th>\n",
       "      <td>GUANGZHOU</td>\n",
       "      <td>19610.90</td>\n",
       "      <td>1350.11</td>\n",
       "    </tr>\n",
       "    <tr>\n",
       "      <th>4</th>\n",
       "      <td>SHENZHEN</td>\n",
       "      <td>19492.60</td>\n",
       "      <td>1137.87</td>\n",
       "    </tr>\n",
       "    <tr>\n",
       "      <th>5</th>\n",
       "      <td>TIANJIN</td>\n",
       "      <td>17885.39</td>\n",
       "      <td>1562.12</td>\n",
       "    </tr>\n",
       "    <tr>\n",
       "      <th>6</th>\n",
       "      <td>CHONGQING</td>\n",
       "      <td>17558.76</td>\n",
       "      <td>3016.55</td>\n",
       "    </tr>\n",
       "    <tr>\n",
       "      <th>7</th>\n",
       "      <td>SUZHOU</td>\n",
       "      <td>15475.09</td>\n",
       "      <td>1375.00</td>\n",
       "    </tr>\n",
       "    <tr>\n",
       "      <th>8</th>\n",
       "      <td>CHENGDU</td>\n",
       "      <td>12170.20</td>\n",
       "      <td>1591.76</td>\n",
       "    </tr>\n",
       "  </tbody>\n",
       "</table>\n",
       "</div>"
      ],
      "text/plain": [
       "        CITY        GDP         POP\n",
       "0  City_Name        GDP  Population\n",
       "1   SHANGHAI  27466.15     2419.70 \n",
       "2    BEIJING  24899.30     2172.90 \n",
       "3  GUANGZHOU  19610.90     1350.11 \n",
       "4   SHENZHEN  19492.60     1137.87 \n",
       "5    TIANJIN  17885.39     1562.12 \n",
       "6  CHONGQING  17558.76     3016.55 \n",
       "7     SUZHOU  15475.09     1375.00 \n",
       "8    CHENGDU  12170.20     1591.76 "
      ]
     },
     "execution_count": 7,
     "metadata": {},
     "output_type": "execute_result"
    }
   ],
   "source": [
    "# 重命名列名\n",
    "pd.read_csv('gdp-population.csv',names=['CITY','GDP','POP'])  # 可以发现原始的表头列多余了"
   ]
  },
  {
   "cell_type": "code",
   "execution_count": 8,
   "metadata": {},
   "outputs": [
    {
     "data": {
      "text/html": [
       "<div>\n",
       "<style scoped>\n",
       "    .dataframe tbody tr th:only-of-type {\n",
       "        vertical-align: middle;\n",
       "    }\n",
       "\n",
       "    .dataframe tbody tr th {\n",
       "        vertical-align: top;\n",
       "    }\n",
       "\n",
       "    .dataframe thead th {\n",
       "        text-align: right;\n",
       "    }\n",
       "</style>\n",
       "<table border=\"1\" class=\"dataframe\">\n",
       "  <thead>\n",
       "    <tr style=\"text-align: right;\">\n",
       "      <th></th>\n",
       "      <th>CITY</th>\n",
       "      <th>GDP</th>\n",
       "      <th>POP</th>\n",
       "    </tr>\n",
       "  </thead>\n",
       "  <tbody>\n",
       "    <tr>\n",
       "      <th>0</th>\n",
       "      <td>SHANGHAI</td>\n",
       "      <td>27466.15</td>\n",
       "      <td>2419.70</td>\n",
       "    </tr>\n",
       "    <tr>\n",
       "      <th>1</th>\n",
       "      <td>BEIJING</td>\n",
       "      <td>24899.30</td>\n",
       "      <td>2172.90</td>\n",
       "    </tr>\n",
       "    <tr>\n",
       "      <th>2</th>\n",
       "      <td>GUANGZHOU</td>\n",
       "      <td>19610.90</td>\n",
       "      <td>1350.11</td>\n",
       "    </tr>\n",
       "    <tr>\n",
       "      <th>3</th>\n",
       "      <td>SHENZHEN</td>\n",
       "      <td>19492.60</td>\n",
       "      <td>1137.87</td>\n",
       "    </tr>\n",
       "    <tr>\n",
       "      <th>4</th>\n",
       "      <td>TIANJIN</td>\n",
       "      <td>17885.39</td>\n",
       "      <td>1562.12</td>\n",
       "    </tr>\n",
       "    <tr>\n",
       "      <th>5</th>\n",
       "      <td>CHONGQING</td>\n",
       "      <td>17558.76</td>\n",
       "      <td>3016.55</td>\n",
       "    </tr>\n",
       "    <tr>\n",
       "      <th>6</th>\n",
       "      <td>SUZHOU</td>\n",
       "      <td>15475.09</td>\n",
       "      <td>1375.00</td>\n",
       "    </tr>\n",
       "    <tr>\n",
       "      <th>7</th>\n",
       "      <td>CHENGDU</td>\n",
       "      <td>12170.20</td>\n",
       "      <td>1591.76</td>\n",
       "    </tr>\n",
       "  </tbody>\n",
       "</table>\n",
       "</div>"
      ],
      "text/plain": [
       "        CITY       GDP      POP\n",
       "0   SHANGHAI  27466.15  2419.70\n",
       "1    BEIJING  24899.30  2172.90\n",
       "2  GUANGZHOU  19610.90  1350.11\n",
       "3   SHENZHEN  19492.60  1137.87\n",
       "4    TIANJIN  17885.39  1562.12\n",
       "5  CHONGQING  17558.76  3016.55\n",
       "6     SUZHOU  15475.09  1375.00\n",
       "7    CHENGDU  12170.20  1591.76"
      ]
     },
     "execution_count": 8,
     "metadata": {},
     "output_type": "execute_result"
    }
   ],
   "source": [
    "pd.read_csv('gdp-population.csv',names=['CITY','GDP','POP'],skiprows=[0]) # 想使city作为行索引"
   ]
  },
  {
   "cell_type": "code",
   "execution_count": 9,
   "metadata": {},
   "outputs": [
    {
     "data": {
      "text/html": [
       "<div>\n",
       "<style scoped>\n",
       "    .dataframe tbody tr th:only-of-type {\n",
       "        vertical-align: middle;\n",
       "    }\n",
       "\n",
       "    .dataframe tbody tr th {\n",
       "        vertical-align: top;\n",
       "    }\n",
       "\n",
       "    .dataframe thead th {\n",
       "        text-align: right;\n",
       "    }\n",
       "</style>\n",
       "<table border=\"1\" class=\"dataframe\">\n",
       "  <thead>\n",
       "    <tr style=\"text-align: right;\">\n",
       "      <th></th>\n",
       "      <th>GDP</th>\n",
       "      <th>POP</th>\n",
       "    </tr>\n",
       "    <tr>\n",
       "      <th>CITY</th>\n",
       "      <th></th>\n",
       "      <th></th>\n",
       "    </tr>\n",
       "  </thead>\n",
       "  <tbody>\n",
       "    <tr>\n",
       "      <th>SHANGHAI</th>\n",
       "      <td>27466.15</td>\n",
       "      <td>2419.70</td>\n",
       "    </tr>\n",
       "    <tr>\n",
       "      <th>BEIJING</th>\n",
       "      <td>24899.30</td>\n",
       "      <td>2172.90</td>\n",
       "    </tr>\n",
       "    <tr>\n",
       "      <th>GUANGZHOU</th>\n",
       "      <td>19610.90</td>\n",
       "      <td>1350.11</td>\n",
       "    </tr>\n",
       "    <tr>\n",
       "      <th>SHENZHEN</th>\n",
       "      <td>19492.60</td>\n",
       "      <td>1137.87</td>\n",
       "    </tr>\n",
       "    <tr>\n",
       "      <th>TIANJIN</th>\n",
       "      <td>17885.39</td>\n",
       "      <td>1562.12</td>\n",
       "    </tr>\n",
       "    <tr>\n",
       "      <th>CHONGQING</th>\n",
       "      <td>17558.76</td>\n",
       "      <td>3016.55</td>\n",
       "    </tr>\n",
       "    <tr>\n",
       "      <th>SUZHOU</th>\n",
       "      <td>15475.09</td>\n",
       "      <td>1375.00</td>\n",
       "    </tr>\n",
       "    <tr>\n",
       "      <th>CHENGDU</th>\n",
       "      <td>12170.20</td>\n",
       "      <td>1591.76</td>\n",
       "    </tr>\n",
       "  </tbody>\n",
       "</table>\n",
       "</div>"
      ],
      "text/plain": [
       "                GDP      POP\n",
       "CITY                        \n",
       "SHANGHAI   27466.15  2419.70\n",
       "BEIJING    24899.30  2172.90\n",
       "GUANGZHOU  19610.90  1350.11\n",
       "SHENZHEN   19492.60  1137.87\n",
       "TIANJIN    17885.39  1562.12\n",
       "CHONGQING  17558.76  3016.55\n",
       "SUZHOU     15475.09  1375.00\n",
       "CHENGDU    12170.20  1591.76"
      ]
     },
     "execution_count": 9,
     "metadata": {},
     "output_type": "execute_result"
    }
   ],
   "source": [
    "gdp=pd.read_csv('gdp-population.csv',names=['CITY','GDP','POP'],skiprows=[0],index_col=0)\n",
    "gdp"
   ]
  },
  {
   "cell_type": "code",
   "execution_count": 10,
   "metadata": {},
   "outputs": [
    {
     "data": {
      "text/plain": [
       "Index(['SHANGHAI', 'BEIJING', 'GUANGZHOU', 'SHENZHEN', 'TIANJIN', 'CHONGQING',\n",
       "       'SUZHOU', 'CHENGDU'],\n",
       "      dtype='object', name='CITY')"
      ]
     },
     "execution_count": 10,
     "metadata": {},
     "output_type": "execute_result"
    }
   ],
   "source": [
    "gdp.index"
   ]
  },
  {
   "cell_type": "code",
   "execution_count": 11,
   "metadata": {},
   "outputs": [
    {
     "data": {
      "text/html": [
       "<div>\n",
       "<style scoped>\n",
       "    .dataframe tbody tr th:only-of-type {\n",
       "        vertical-align: middle;\n",
       "    }\n",
       "\n",
       "    .dataframe tbody tr th {\n",
       "        vertical-align: top;\n",
       "    }\n",
       "\n",
       "    .dataframe thead th {\n",
       "        text-align: right;\n",
       "    }\n",
       "</style>\n",
       "<table border=\"1\" class=\"dataframe\">\n",
       "  <thead>\n",
       "    <tr style=\"text-align: right;\">\n",
       "      <th></th>\n",
       "      <th>GDP</th>\n",
       "      <th>POP</th>\n",
       "    </tr>\n",
       "    <tr>\n",
       "      <th>CITY</th>\n",
       "      <th></th>\n",
       "      <th></th>\n",
       "    </tr>\n",
       "  </thead>\n",
       "  <tbody>\n",
       "    <tr>\n",
       "      <th>SHANGHAI</th>\n",
       "      <td>27466.15</td>\n",
       "      <td>NaN</td>\n",
       "    </tr>\n",
       "    <tr>\n",
       "      <th>BEIJING</th>\n",
       "      <td>24899.30</td>\n",
       "      <td>2172.90</td>\n",
       "    </tr>\n",
       "    <tr>\n",
       "      <th>GUANGZHOU</th>\n",
       "      <td>19610.90</td>\n",
       "      <td>1350.11</td>\n",
       "    </tr>\n",
       "    <tr>\n",
       "      <th>SHENZHEN</th>\n",
       "      <td>NaN</td>\n",
       "      <td>1137.87</td>\n",
       "    </tr>\n",
       "    <tr>\n",
       "      <th>TIANJIN</th>\n",
       "      <td>17885.39</td>\n",
       "      <td>1562.12</td>\n",
       "    </tr>\n",
       "    <tr>\n",
       "      <th>CHONGQING</th>\n",
       "      <td>17558.76</td>\n",
       "      <td>3016.55</td>\n",
       "    </tr>\n",
       "    <tr>\n",
       "      <th>SUZHOU</th>\n",
       "      <td>15475.09</td>\n",
       "      <td>1375.00</td>\n",
       "    </tr>\n",
       "    <tr>\n",
       "      <th>CHENGDU</th>\n",
       "      <td>12170.20</td>\n",
       "      <td>1591.76</td>\n",
       "    </tr>\n",
       "  </tbody>\n",
       "</table>\n",
       "</div>"
      ],
      "text/plain": [
       "                GDP      POP\n",
       "CITY                        \n",
       "SHANGHAI   27466.15      NaN\n",
       "BEIJING    24899.30  2172.90\n",
       "GUANGZHOU  19610.90  1350.11\n",
       "SHENZHEN        NaN  1137.87\n",
       "TIANJIN    17885.39  1562.12\n",
       "CHONGQING  17558.76  3016.55\n",
       "SUZHOU     15475.09  1375.00\n",
       "CHENGDU    12170.20  1591.76"
      ]
     },
     "execution_count": 11,
     "metadata": {},
     "output_type": "execute_result"
    }
   ],
   "source": [
    "# 缺失数据\n",
    "pd.read_csv('gdp-pop.csv',index_col=0,names=['CITY','GDP','POP'],skiprows=[0])"
   ]
  },
  {
   "cell_type": "code",
   "execution_count": 12,
   "metadata": {},
   "outputs": [
    {
     "data": {
      "text/html": [
       "<div>\n",
       "<style scoped>\n",
       "    .dataframe tbody tr th:only-of-type {\n",
       "        vertical-align: middle;\n",
       "    }\n",
       "\n",
       "    .dataframe tbody tr th {\n",
       "        vertical-align: top;\n",
       "    }\n",
       "\n",
       "    .dataframe thead th {\n",
       "        text-align: right;\n",
       "    }\n",
       "</style>\n",
       "<table border=\"1\" class=\"dataframe\">\n",
       "  <thead>\n",
       "    <tr style=\"text-align: right;\">\n",
       "      <th></th>\n",
       "      <th>GDP</th>\n",
       "      <th>Population</th>\n",
       "    </tr>\n",
       "    <tr>\n",
       "      <th>City_Name</th>\n",
       "      <th></th>\n",
       "      <th></th>\n",
       "    </tr>\n",
       "  </thead>\n",
       "  <tbody>\n",
       "    <tr>\n",
       "      <th>SHANGHAI</th>\n",
       "      <td>27466.15</td>\n",
       "      <td>NaN</td>\n",
       "    </tr>\n",
       "    <tr>\n",
       "      <th>BEIJING</th>\n",
       "      <td>24899.30</td>\n",
       "      <td>2172.90</td>\n",
       "    </tr>\n",
       "    <tr>\n",
       "      <th>GUANGZHOU</th>\n",
       "      <td>19610.90</td>\n",
       "      <td>1350.11</td>\n",
       "    </tr>\n",
       "    <tr>\n",
       "      <th>SHENZHEN</th>\n",
       "      <td>NaN</td>\n",
       "      <td>1137.87</td>\n",
       "    </tr>\n",
       "    <tr>\n",
       "      <th>TIANJIN</th>\n",
       "      <td>17885.39</td>\n",
       "      <td>1562.12</td>\n",
       "    </tr>\n",
       "    <tr>\n",
       "      <th>CHONGQING</th>\n",
       "      <td>17558.76</td>\n",
       "      <td>NaN</td>\n",
       "    </tr>\n",
       "    <tr>\n",
       "      <th>SUZHOU</th>\n",
       "      <td>15475.09</td>\n",
       "      <td>1375.00</td>\n",
       "    </tr>\n",
       "    <tr>\n",
       "      <th>CHENGDU</th>\n",
       "      <td>12170.20</td>\n",
       "      <td>1591.76</td>\n",
       "    </tr>\n",
       "  </tbody>\n",
       "</table>\n",
       "</div>"
      ],
      "text/plain": [
       "                GDP  Population\n",
       "City_Name                      \n",
       "SHANGHAI   27466.15         NaN\n",
       "BEIJING    24899.30     2172.90\n",
       "GUANGZHOU  19610.90     1350.11\n",
       "SHENZHEN        NaN     1137.87\n",
       "TIANJIN    17885.39     1562.12\n",
       "CHONGQING  17558.76         NaN\n",
       "SUZHOU     15475.09     1375.00\n",
       "CHENGDU    12170.20     1591.76"
      ]
     },
     "execution_count": 12,
     "metadata": {},
     "output_type": "execute_result"
    }
   ],
   "source": [
    "pd.read_csv('gdp-pop2.csv',index_col=0,na_values={'GDP':[None]})"
   ]
  },
  {
   "cell_type": "code",
   "execution_count": 13,
   "metadata": {},
   "outputs": [
    {
     "data": {
      "text/html": [
       "<div>\n",
       "<style scoped>\n",
       "    .dataframe tbody tr th:only-of-type {\n",
       "        vertical-align: middle;\n",
       "    }\n",
       "\n",
       "    .dataframe tbody tr th {\n",
       "        vertical-align: top;\n",
       "    }\n",
       "\n",
       "    .dataframe thead th {\n",
       "        text-align: right;\n",
       "    }\n",
       "</style>\n",
       "<table border=\"1\" class=\"dataframe\">\n",
       "  <thead>\n",
       "    <tr style=\"text-align: right;\">\n",
       "      <th></th>\n",
       "      <th>AQI</th>\n",
       "      <th>级别</th>\n",
       "      <th>首要污染物</th>\n",
       "    </tr>\n",
       "    <tr>\n",
       "      <th>城市</th>\n",
       "      <th></th>\n",
       "      <th></th>\n",
       "      <th></th>\n",
       "    </tr>\n",
       "  </thead>\n",
       "  <tbody>\n",
       "    <tr>\n",
       "      <th>九江市</th>\n",
       "      <td>62</td>\n",
       "      <td>良</td>\n",
       "      <td>PM10</td>\n",
       "    </tr>\n",
       "    <tr>\n",
       "      <th>新余市</th>\n",
       "      <td>87</td>\n",
       "      <td>良</td>\n",
       "      <td>PM2.5</td>\n",
       "    </tr>\n",
       "    <tr>\n",
       "      <th>鹰潭市</th>\n",
       "      <td>80</td>\n",
       "      <td>良</td>\n",
       "      <td>O3</td>\n",
       "    </tr>\n",
       "    <tr>\n",
       "      <th>赣州市</th>\n",
       "      <td>88</td>\n",
       "      <td>良</td>\n",
       "      <td>O3</td>\n",
       "    </tr>\n",
       "    <tr>\n",
       "      <th>吉安市</th>\n",
       "      <td>96</td>\n",
       "      <td>良</td>\n",
       "      <td>O3</td>\n",
       "    </tr>\n",
       "    <tr>\n",
       "      <th>宜春市</th>\n",
       "      <td>97</td>\n",
       "      <td>良</td>\n",
       "      <td>PM2.5</td>\n",
       "    </tr>\n",
       "    <tr>\n",
       "      <th>抚州市</th>\n",
       "      <td>74</td>\n",
       "      <td>良</td>\n",
       "      <td>PM2.5</td>\n",
       "    </tr>\n",
       "    <tr>\n",
       "      <th>济南市</th>\n",
       "      <td>108</td>\n",
       "      <td>轻度污染</td>\n",
       "      <td>O3</td>\n",
       "    </tr>\n",
       "    <tr>\n",
       "      <th>章丘市</th>\n",
       "      <td>102</td>\n",
       "      <td>轻度污染</td>\n",
       "      <td>O3</td>\n",
       "    </tr>\n",
       "    <tr>\n",
       "      <th>青岛市</th>\n",
       "      <td>146</td>\n",
       "      <td>轻度污染</td>\n",
       "      <td>O3</td>\n",
       "    </tr>\n",
       "  </tbody>\n",
       "</table>\n",
       "</div>"
      ],
      "text/plain": [
       "     AQI    级别  首要污染物\n",
       "城市                   \n",
       "九江市   62     良   PM10\n",
       "新余市   87     良  PM2.5\n",
       "鹰潭市   80     良     O3\n",
       "赣州市   88     良     O3\n",
       "吉安市   96     良     O3\n",
       "宜春市   97     良  PM2.5\n",
       "抚州市   74     良  PM2.5\n",
       "济南市  108  轻度污染     O3\n",
       "章丘市  102  轻度污染     O3\n",
       "青岛市  146  轻度污染     O3"
      ]
     },
     "execution_count": 13,
     "metadata": {},
     "output_type": "execute_result"
    }
   ],
   "source": [
    "# 控制读入几行数据\n",
    "pd.read_csv('aqi.csv',index_col=0,nrows=10)"
   ]
  },
  {
   "cell_type": "code",
   "execution_count": 14,
   "metadata": {},
   "outputs": [
    {
     "data": {
      "text/plain": [
       "<pandas.io.parsers.TextFileReader at 0x1fbba571cf8>"
      ]
     },
     "execution_count": 14,
     "metadata": {},
     "output_type": "execute_result"
    }
   ],
   "source": [
    "# 分块读入\n",
    "api_chunk=pd.read_csv('aqi.csv',index_col=0,encoding='utf-8',chunksize=50)\n",
    "api_chunk"
   ]
  },
  {
   "cell_type": "code",
   "execution_count": 15,
   "metadata": {},
   "outputs": [
    {
     "data": {
      "text/plain": [
       "中度污染      8.0\n",
       "优       105.0\n",
       "良       180.0\n",
       "轻度污染     62.0\n",
       "dtype: float64"
      ]
     },
     "execution_count": 15,
     "metadata": {},
     "output_type": "execute_result"
    }
   ],
   "source": [
    "tot=pd.Series([])\n",
    "for city in api_chunk:\n",
    "    tot=tot.add(city['级别'].value_counts(),fill_value=0)\n",
    "tot"
   ]
  },
  {
   "cell_type": "code",
   "execution_count": 16,
   "metadata": {},
   "outputs": [],
   "source": [
    "import h5py"
   ]
  },
  {
   "cell_type": "code",
   "execution_count": null,
   "metadata": {},
   "outputs": [],
   "source": []
  }
 ],
 "metadata": {
  "kernelspec": {
   "display_name": "Python 3",
   "language": "python",
   "name": "python3"
  },
  "language_info": {
   "codemirror_mode": {
    "name": "ipython",
    "version": 3
   },
   "file_extension": ".py",
   "mimetype": "text/x-python",
   "name": "python",
   "nbconvert_exporter": "python",
   "pygments_lexer": "ipython3",
   "version": "3.6.6"
  }
 },
 "nbformat": 4,
 "nbformat_minor": 2
}
