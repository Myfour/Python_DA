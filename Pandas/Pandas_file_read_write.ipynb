{
 "cells": [
  {
   "cell_type": "code",
   "execution_count": 1,
   "metadata": {},
   "outputs": [],
   "source": [
    "import numpy as np\n",
    "import pandas as pd"
   ]
  },
  {
   "cell_type": "code",
   "execution_count": 2,
   "metadata": {},
   "outputs": [],
   "source": [
    "pd.read_csv?"
   ]
  },
  {
   "cell_type": "code",
   "execution_count": 3,
   "metadata": {},
   "outputs": [
    {
     "name": "stdout",
     "output_type": "stream",
     "text": [
      "City_Name,GDP,Population\n",
      "SHANGHAI,27466.15 ,2419.70 \n",
      "BEIJING,24899.30 ,2172.90 \n",
      "GUANGZHOU,19610.90 ,1350.11 \n",
      "SHENZHEN,19492.60 ,1137.87 \n",
      "TIANJIN,17885.39 ,1562.12 \n",
      "CHONGQING,17558.76 ,3016.55 \n",
      "SUZHOU,15475.09 ,1375.00 \n",
      "CHENGDU,12170.20 ,1591.76 \n",
      "\n"
     ]
    }
   ],
   "source": [
    "with open('gdp-population.csv') as file:\n",
    "    print(file.read())"
   ]
  },
  {
   "cell_type": "code",
   "execution_count": 4,
   "metadata": {},
   "outputs": [
    {
     "data": {
      "text/html": [
       "<div>\n",
       "<style scoped>\n",
       "    .dataframe tbody tr th:only-of-type {\n",
       "        vertical-align: middle;\n",
       "    }\n",
       "\n",
       "    .dataframe tbody tr th {\n",
       "        vertical-align: top;\n",
       "    }\n",
       "\n",
       "    .dataframe thead th {\n",
       "        text-align: right;\n",
       "    }\n",
       "</style>\n",
       "<table border=\"1\" class=\"dataframe\">\n",
       "  <thead>\n",
       "    <tr style=\"text-align: right;\">\n",
       "      <th></th>\n",
       "      <th>City_Name</th>\n",
       "      <th>GDP</th>\n",
       "      <th>Population</th>\n",
       "    </tr>\n",
       "  </thead>\n",
       "  <tbody>\n",
       "    <tr>\n",
       "      <th>0</th>\n",
       "      <td>SHANGHAI</td>\n",
       "      <td>27466.15</td>\n",
       "      <td>2419.70</td>\n",
       "    </tr>\n",
       "    <tr>\n",
       "      <th>1</th>\n",
       "      <td>BEIJING</td>\n",
       "      <td>24899.30</td>\n",
       "      <td>2172.90</td>\n",
       "    </tr>\n",
       "    <tr>\n",
       "      <th>2</th>\n",
       "      <td>GUANGZHOU</td>\n",
       "      <td>19610.90</td>\n",
       "      <td>1350.11</td>\n",
       "    </tr>\n",
       "    <tr>\n",
       "      <th>3</th>\n",
       "      <td>SHENZHEN</td>\n",
       "      <td>19492.60</td>\n",
       "      <td>1137.87</td>\n",
       "    </tr>\n",
       "    <tr>\n",
       "      <th>4</th>\n",
       "      <td>TIANJIN</td>\n",
       "      <td>17885.39</td>\n",
       "      <td>1562.12</td>\n",
       "    </tr>\n",
       "    <tr>\n",
       "      <th>5</th>\n",
       "      <td>CHONGQING</td>\n",
       "      <td>17558.76</td>\n",
       "      <td>3016.55</td>\n",
       "    </tr>\n",
       "    <tr>\n",
       "      <th>6</th>\n",
       "      <td>SUZHOU</td>\n",
       "      <td>15475.09</td>\n",
       "      <td>1375.00</td>\n",
       "    </tr>\n",
       "    <tr>\n",
       "      <th>7</th>\n",
       "      <td>CHENGDU</td>\n",
       "      <td>12170.20</td>\n",
       "      <td>1591.76</td>\n",
       "    </tr>\n",
       "  </tbody>\n",
       "</table>\n",
       "</div>"
      ],
      "text/plain": [
       "   City_Name       GDP  Population\n",
       "0   SHANGHAI  27466.15     2419.70\n",
       "1    BEIJING  24899.30     2172.90\n",
       "2  GUANGZHOU  19610.90     1350.11\n",
       "3   SHENZHEN  19492.60     1137.87\n",
       "4    TIANJIN  17885.39     1562.12\n",
       "5  CHONGQING  17558.76     3016.55\n",
       "6     SUZHOU  15475.09     1375.00\n",
       "7    CHENGDU  12170.20     1591.76"
      ]
     },
     "execution_count": 4,
     "metadata": {},
     "output_type": "execute_result"
    }
   ],
   "source": [
    "gdp=pd.read_csv('gdp-population.csv')\n",
    "gdp"
   ]
  },
  {
   "cell_type": "code",
   "execution_count": 5,
   "metadata": {},
   "outputs": [
    {
     "data": {
      "text/html": [
       "<div>\n",
       "<style scoped>\n",
       "    .dataframe tbody tr th:only-of-type {\n",
       "        vertical-align: middle;\n",
       "    }\n",
       "\n",
       "    .dataframe tbody tr th {\n",
       "        vertical-align: top;\n",
       "    }\n",
       "\n",
       "    .dataframe thead th {\n",
       "        text-align: right;\n",
       "    }\n",
       "</style>\n",
       "<table border=\"1\" class=\"dataframe\">\n",
       "  <thead>\n",
       "    <tr style=\"text-align: right;\">\n",
       "      <th></th>\n",
       "      <th>City_Name</th>\n",
       "      <th>GDP</th>\n",
       "      <th>Population</th>\n",
       "    </tr>\n",
       "  </thead>\n",
       "  <tbody>\n",
       "    <tr>\n",
       "      <th>0</th>\n",
       "      <td>SHANGHAI</td>\n",
       "      <td>27466.15</td>\n",
       "      <td>2419.70</td>\n",
       "    </tr>\n",
       "    <tr>\n",
       "      <th>1</th>\n",
       "      <td>BEIJING</td>\n",
       "      <td>24899.30</td>\n",
       "      <td>2172.90</td>\n",
       "    </tr>\n",
       "    <tr>\n",
       "      <th>2</th>\n",
       "      <td>GUANGZHOU</td>\n",
       "      <td>19610.90</td>\n",
       "      <td>1350.11</td>\n",
       "    </tr>\n",
       "    <tr>\n",
       "      <th>3</th>\n",
       "      <td>SHENZHEN</td>\n",
       "      <td>19492.60</td>\n",
       "      <td>1137.87</td>\n",
       "    </tr>\n",
       "    <tr>\n",
       "      <th>4</th>\n",
       "      <td>TIANJIN</td>\n",
       "      <td>17885.39</td>\n",
       "      <td>1562.12</td>\n",
       "    </tr>\n",
       "    <tr>\n",
       "      <th>5</th>\n",
       "      <td>CHONGQING</td>\n",
       "      <td>17558.76</td>\n",
       "      <td>3016.55</td>\n",
       "    </tr>\n",
       "    <tr>\n",
       "      <th>6</th>\n",
       "      <td>SUZHOU</td>\n",
       "      <td>15475.09</td>\n",
       "      <td>1375.00</td>\n",
       "    </tr>\n",
       "    <tr>\n",
       "      <th>7</th>\n",
       "      <td>CHENGDU</td>\n",
       "      <td>12170.20</td>\n",
       "      <td>1591.76</td>\n",
       "    </tr>\n",
       "  </tbody>\n",
       "</table>\n",
       "</div>"
      ],
      "text/plain": [
       "   City_Name       GDP  Population\n",
       "0   SHANGHAI  27466.15     2419.70\n",
       "1    BEIJING  24899.30     2172.90\n",
       "2  GUANGZHOU  19610.90     1350.11\n",
       "3   SHENZHEN  19492.60     1137.87\n",
       "4    TIANJIN  17885.39     1562.12\n",
       "5  CHONGQING  17558.76     3016.55\n",
       "6     SUZHOU  15475.09     1375.00\n",
       "7    CHENGDU  12170.20     1591.76"
      ]
     },
     "execution_count": 5,
     "metadata": {},
     "output_type": "execute_result"
    }
   ],
   "source": [
    "gdp=pd.read_csv('gdp-population.csv',header=0)  # header参数控制了以csv中的哪一行作为列名称\n",
    "gdp"
   ]
  },
  {
   "cell_type": "code",
   "execution_count": 6,
   "metadata": {},
   "outputs": [
    {
     "data": {
      "text/plain": [
       "Index(['City_Name', 'GDP', 'Population'], dtype='object')"
      ]
     },
     "execution_count": 6,
     "metadata": {},
     "output_type": "execute_result"
    }
   ],
   "source": [
    "gdp.columns"
   ]
  },
  {
   "cell_type": "code",
   "execution_count": 7,
   "metadata": {},
   "outputs": [
    {
     "data": {
      "text/plain": [
       "RangeIndex(start=0, stop=8, step=1)"
      ]
     },
     "execution_count": 7,
     "metadata": {},
     "output_type": "execute_result"
    }
   ],
   "source": [
    "gdp.index"
   ]
  },
  {
   "cell_type": "code",
   "execution_count": 8,
   "metadata": {},
   "outputs": [
    {
     "data": {
      "text/html": [
       "<div>\n",
       "<style scoped>\n",
       "    .dataframe tbody tr th:only-of-type {\n",
       "        vertical-align: middle;\n",
       "    }\n",
       "\n",
       "    .dataframe tbody tr th {\n",
       "        vertical-align: top;\n",
       "    }\n",
       "\n",
       "    .dataframe thead th {\n",
       "        text-align: right;\n",
       "    }\n",
       "</style>\n",
       "<table border=\"1\" class=\"dataframe\">\n",
       "  <thead>\n",
       "    <tr style=\"text-align: right;\">\n",
       "      <th></th>\n",
       "      <th>CITY</th>\n",
       "      <th>GDP</th>\n",
       "      <th>POP</th>\n",
       "    </tr>\n",
       "  </thead>\n",
       "  <tbody>\n",
       "    <tr>\n",
       "      <th>0</th>\n",
       "      <td>City_Name</td>\n",
       "      <td>GDP</td>\n",
       "      <td>Population</td>\n",
       "    </tr>\n",
       "    <tr>\n",
       "      <th>1</th>\n",
       "      <td>SHANGHAI</td>\n",
       "      <td>27466.15</td>\n",
       "      <td>2419.70</td>\n",
       "    </tr>\n",
       "    <tr>\n",
       "      <th>2</th>\n",
       "      <td>BEIJING</td>\n",
       "      <td>24899.30</td>\n",
       "      <td>2172.90</td>\n",
       "    </tr>\n",
       "    <tr>\n",
       "      <th>3</th>\n",
       "      <td>GUANGZHOU</td>\n",
       "      <td>19610.90</td>\n",
       "      <td>1350.11</td>\n",
       "    </tr>\n",
       "    <tr>\n",
       "      <th>4</th>\n",
       "      <td>SHENZHEN</td>\n",
       "      <td>19492.60</td>\n",
       "      <td>1137.87</td>\n",
       "    </tr>\n",
       "    <tr>\n",
       "      <th>5</th>\n",
       "      <td>TIANJIN</td>\n",
       "      <td>17885.39</td>\n",
       "      <td>1562.12</td>\n",
       "    </tr>\n",
       "    <tr>\n",
       "      <th>6</th>\n",
       "      <td>CHONGQING</td>\n",
       "      <td>17558.76</td>\n",
       "      <td>3016.55</td>\n",
       "    </tr>\n",
       "    <tr>\n",
       "      <th>7</th>\n",
       "      <td>SUZHOU</td>\n",
       "      <td>15475.09</td>\n",
       "      <td>1375.00</td>\n",
       "    </tr>\n",
       "    <tr>\n",
       "      <th>8</th>\n",
       "      <td>CHENGDU</td>\n",
       "      <td>12170.20</td>\n",
       "      <td>1591.76</td>\n",
       "    </tr>\n",
       "  </tbody>\n",
       "</table>\n",
       "</div>"
      ],
      "text/plain": [
       "        CITY        GDP         POP\n",
       "0  City_Name        GDP  Population\n",
       "1   SHANGHAI  27466.15     2419.70 \n",
       "2    BEIJING  24899.30     2172.90 \n",
       "3  GUANGZHOU  19610.90     1350.11 \n",
       "4   SHENZHEN  19492.60     1137.87 \n",
       "5    TIANJIN  17885.39     1562.12 \n",
       "6  CHONGQING  17558.76     3016.55 \n",
       "7     SUZHOU  15475.09     1375.00 \n",
       "8    CHENGDU  12170.20     1591.76 "
      ]
     },
     "execution_count": 8,
     "metadata": {},
     "output_type": "execute_result"
    }
   ],
   "source": [
    "# 重命名列名\n",
    "pd.read_csv('gdp-population.csv',names=['CITY','GDP','POP'])  # 使用names会新生成一个列表头"
   ]
  },
  {
   "cell_type": "code",
   "execution_count": 9,
   "metadata": {},
   "outputs": [
    {
     "data": {
      "text/html": [
       "<div>\n",
       "<style scoped>\n",
       "    .dataframe tbody tr th:only-of-type {\n",
       "        vertical-align: middle;\n",
       "    }\n",
       "\n",
       "    .dataframe tbody tr th {\n",
       "        vertical-align: top;\n",
       "    }\n",
       "\n",
       "    .dataframe thead th {\n",
       "        text-align: right;\n",
       "    }\n",
       "</style>\n",
       "<table border=\"1\" class=\"dataframe\">\n",
       "  <thead>\n",
       "    <tr style=\"text-align: right;\">\n",
       "      <th></th>\n",
       "      <th>CITY</th>\n",
       "      <th>GDP</th>\n",
       "      <th>POP</th>\n",
       "    </tr>\n",
       "  </thead>\n",
       "  <tbody>\n",
       "    <tr>\n",
       "      <th>0</th>\n",
       "      <td>SHANGHAI</td>\n",
       "      <td>27466.15</td>\n",
       "      <td>2419.70</td>\n",
       "    </tr>\n",
       "    <tr>\n",
       "      <th>1</th>\n",
       "      <td>BEIJING</td>\n",
       "      <td>24899.30</td>\n",
       "      <td>2172.90</td>\n",
       "    </tr>\n",
       "    <tr>\n",
       "      <th>2</th>\n",
       "      <td>GUANGZHOU</td>\n",
       "      <td>19610.90</td>\n",
       "      <td>1350.11</td>\n",
       "    </tr>\n",
       "    <tr>\n",
       "      <th>3</th>\n",
       "      <td>SHENZHEN</td>\n",
       "      <td>19492.60</td>\n",
       "      <td>1137.87</td>\n",
       "    </tr>\n",
       "    <tr>\n",
       "      <th>4</th>\n",
       "      <td>TIANJIN</td>\n",
       "      <td>17885.39</td>\n",
       "      <td>1562.12</td>\n",
       "    </tr>\n",
       "    <tr>\n",
       "      <th>5</th>\n",
       "      <td>CHONGQING</td>\n",
       "      <td>17558.76</td>\n",
       "      <td>3016.55</td>\n",
       "    </tr>\n",
       "    <tr>\n",
       "      <th>6</th>\n",
       "      <td>SUZHOU</td>\n",
       "      <td>15475.09</td>\n",
       "      <td>1375.00</td>\n",
       "    </tr>\n",
       "    <tr>\n",
       "      <th>7</th>\n",
       "      <td>CHENGDU</td>\n",
       "      <td>12170.20</td>\n",
       "      <td>1591.76</td>\n",
       "    </tr>\n",
       "  </tbody>\n",
       "</table>\n",
       "</div>"
      ],
      "text/plain": [
       "        CITY       GDP      POP\n",
       "0   SHANGHAI  27466.15  2419.70\n",
       "1    BEIJING  24899.30  2172.90\n",
       "2  GUANGZHOU  19610.90  1350.11\n",
       "3   SHENZHEN  19492.60  1137.87\n",
       "4    TIANJIN  17885.39  1562.12\n",
       "5  CHONGQING  17558.76  3016.55\n",
       "6     SUZHOU  15475.09  1375.00\n",
       "7    CHENGDU  12170.20  1591.76"
      ]
     },
     "execution_count": 9,
     "metadata": {},
     "output_type": "execute_result"
    }
   ],
   "source": [
    "pd.read_csv('gdp-population.csv',names=['CITY','GDP','POP'],skiprows=[0]) # skiprows传入一个list用来设置需要跳过不显示的行"
   ]
  },
  {
   "cell_type": "code",
   "execution_count": 10,
   "metadata": {},
   "outputs": [
    {
     "data": {
      "text/html": [
       "<div>\n",
       "<style scoped>\n",
       "    .dataframe tbody tr th:only-of-type {\n",
       "        vertical-align: middle;\n",
       "    }\n",
       "\n",
       "    .dataframe tbody tr th {\n",
       "        vertical-align: top;\n",
       "    }\n",
       "\n",
       "    .dataframe thead th {\n",
       "        text-align: right;\n",
       "    }\n",
       "</style>\n",
       "<table border=\"1\" class=\"dataframe\">\n",
       "  <thead>\n",
       "    <tr style=\"text-align: right;\">\n",
       "      <th></th>\n",
       "      <th>GDP</th>\n",
       "      <th>POP</th>\n",
       "    </tr>\n",
       "    <tr>\n",
       "      <th>CITY</th>\n",
       "      <th></th>\n",
       "      <th></th>\n",
       "    </tr>\n",
       "  </thead>\n",
       "  <tbody>\n",
       "    <tr>\n",
       "      <th>SHANGHAI</th>\n",
       "      <td>27466.15</td>\n",
       "      <td>2419.70</td>\n",
       "    </tr>\n",
       "    <tr>\n",
       "      <th>BEIJING</th>\n",
       "      <td>24899.30</td>\n",
       "      <td>2172.90</td>\n",
       "    </tr>\n",
       "    <tr>\n",
       "      <th>GUANGZHOU</th>\n",
       "      <td>19610.90</td>\n",
       "      <td>1350.11</td>\n",
       "    </tr>\n",
       "    <tr>\n",
       "      <th>SHENZHEN</th>\n",
       "      <td>19492.60</td>\n",
       "      <td>1137.87</td>\n",
       "    </tr>\n",
       "    <tr>\n",
       "      <th>TIANJIN</th>\n",
       "      <td>17885.39</td>\n",
       "      <td>1562.12</td>\n",
       "    </tr>\n",
       "    <tr>\n",
       "      <th>CHONGQING</th>\n",
       "      <td>17558.76</td>\n",
       "      <td>3016.55</td>\n",
       "    </tr>\n",
       "    <tr>\n",
       "      <th>SUZHOU</th>\n",
       "      <td>15475.09</td>\n",
       "      <td>1375.00</td>\n",
       "    </tr>\n",
       "    <tr>\n",
       "      <th>CHENGDU</th>\n",
       "      <td>12170.20</td>\n",
       "      <td>1591.76</td>\n",
       "    </tr>\n",
       "  </tbody>\n",
       "</table>\n",
       "</div>"
      ],
      "text/plain": [
       "                GDP      POP\n",
       "CITY                        \n",
       "SHANGHAI   27466.15  2419.70\n",
       "BEIJING    24899.30  2172.90\n",
       "GUANGZHOU  19610.90  1350.11\n",
       "SHENZHEN   19492.60  1137.87\n",
       "TIANJIN    17885.39  1562.12\n",
       "CHONGQING  17558.76  3016.55\n",
       "SUZHOU     15475.09  1375.00\n",
       "CHENGDU    12170.20  1591.76"
      ]
     },
     "execution_count": 10,
     "metadata": {},
     "output_type": "execute_result"
    }
   ],
   "source": [
    "gdp=pd.read_csv('gdp-population.csv',names=['CITY','GDP','POP'],skiprows=[0],index_col=0) # index_col决定了index索引以哪一列来做\n",
    "gdp"
   ]
  },
  {
   "cell_type": "code",
   "execution_count": 11,
   "metadata": {},
   "outputs": [
    {
     "data": {
      "text/plain": [
       "Index(['SHANGHAI', 'BEIJING', 'GUANGZHOU', 'SHENZHEN', 'TIANJIN', 'CHONGQING',\n",
       "       'SUZHOU', 'CHENGDU'],\n",
       "      dtype='object', name='CITY')"
      ]
     },
     "execution_count": 11,
     "metadata": {},
     "output_type": "execute_result"
    }
   ],
   "source": [
    "gdp.index"
   ]
  },
  {
   "cell_type": "code",
   "execution_count": 12,
   "metadata": {},
   "outputs": [
    {
     "data": {
      "text/html": [
       "<div>\n",
       "<style scoped>\n",
       "    .dataframe tbody tr th:only-of-type {\n",
       "        vertical-align: middle;\n",
       "    }\n",
       "\n",
       "    .dataframe tbody tr th {\n",
       "        vertical-align: top;\n",
       "    }\n",
       "\n",
       "    .dataframe thead th {\n",
       "        text-align: right;\n",
       "    }\n",
       "</style>\n",
       "<table border=\"1\" class=\"dataframe\">\n",
       "  <thead>\n",
       "    <tr style=\"text-align: right;\">\n",
       "      <th></th>\n",
       "      <th>GDP</th>\n",
       "      <th>POP</th>\n",
       "    </tr>\n",
       "    <tr>\n",
       "      <th>CITY</th>\n",
       "      <th></th>\n",
       "      <th></th>\n",
       "    </tr>\n",
       "  </thead>\n",
       "  <tbody>\n",
       "    <tr>\n",
       "      <th>SHANGHAI</th>\n",
       "      <td>27466.15</td>\n",
       "      <td>NaN</td>\n",
       "    </tr>\n",
       "    <tr>\n",
       "      <th>BEIJING</th>\n",
       "      <td>24899.30</td>\n",
       "      <td>2172.90</td>\n",
       "    </tr>\n",
       "    <tr>\n",
       "      <th>GUANGZHOU</th>\n",
       "      <td>19610.90</td>\n",
       "      <td>1350.11</td>\n",
       "    </tr>\n",
       "    <tr>\n",
       "      <th>SHENZHEN</th>\n",
       "      <td>NaN</td>\n",
       "      <td>1137.87</td>\n",
       "    </tr>\n",
       "    <tr>\n",
       "      <th>TIANJIN</th>\n",
       "      <td>17885.39</td>\n",
       "      <td>1562.12</td>\n",
       "    </tr>\n",
       "    <tr>\n",
       "      <th>CHONGQING</th>\n",
       "      <td>17558.76</td>\n",
       "      <td>3016.55</td>\n",
       "    </tr>\n",
       "    <tr>\n",
       "      <th>SUZHOU</th>\n",
       "      <td>15475.09</td>\n",
       "      <td>1375.00</td>\n",
       "    </tr>\n",
       "    <tr>\n",
       "      <th>CHENGDU</th>\n",
       "      <td>12170.20</td>\n",
       "      <td>1591.76</td>\n",
       "    </tr>\n",
       "  </tbody>\n",
       "</table>\n",
       "</div>"
      ],
      "text/plain": [
       "                GDP      POP\n",
       "CITY                        \n",
       "SHANGHAI   27466.15      NaN\n",
       "BEIJING    24899.30  2172.90\n",
       "GUANGZHOU  19610.90  1350.11\n",
       "SHENZHEN        NaN  1137.87\n",
       "TIANJIN    17885.39  1562.12\n",
       "CHONGQING  17558.76  3016.55\n",
       "SUZHOU     15475.09  1375.00\n",
       "CHENGDU    12170.20  1591.76"
      ]
     },
     "execution_count": 12,
     "metadata": {},
     "output_type": "execute_result"
    }
   ],
   "source": [
    "# 缺失数据\n",
    "pd.read_csv('gdp-pop.csv',index_col=0,names=['CITY','GDP','POP'],skiprows=[0])"
   ]
  },
  {
   "cell_type": "code",
   "execution_count": 13,
   "metadata": {},
   "outputs": [
    {
     "data": {
      "text/html": [
       "<div>\n",
       "<style scoped>\n",
       "    .dataframe tbody tr th:only-of-type {\n",
       "        vertical-align: middle;\n",
       "    }\n",
       "\n",
       "    .dataframe tbody tr th {\n",
       "        vertical-align: top;\n",
       "    }\n",
       "\n",
       "    .dataframe thead th {\n",
       "        text-align: right;\n",
       "    }\n",
       "</style>\n",
       "<table border=\"1\" class=\"dataframe\">\n",
       "  <thead>\n",
       "    <tr style=\"text-align: right;\">\n",
       "      <th></th>\n",
       "      <th>GDP</th>\n",
       "      <th>Population</th>\n",
       "    </tr>\n",
       "    <tr>\n",
       "      <th>City_Name</th>\n",
       "      <th></th>\n",
       "      <th></th>\n",
       "    </tr>\n",
       "  </thead>\n",
       "  <tbody>\n",
       "    <tr>\n",
       "      <th>SHANGHAI</th>\n",
       "      <td>27466.15</td>\n",
       "      <td>NaN</td>\n",
       "    </tr>\n",
       "    <tr>\n",
       "      <th>BEIJING</th>\n",
       "      <td>24899.30</td>\n",
       "      <td>2172.90</td>\n",
       "    </tr>\n",
       "    <tr>\n",
       "      <th>GUANGZHOU</th>\n",
       "      <td>NaN</td>\n",
       "      <td>1350.11</td>\n",
       "    </tr>\n",
       "    <tr>\n",
       "      <th>SHENZHEN</th>\n",
       "      <td>NaN</td>\n",
       "      <td>1137.87</td>\n",
       "    </tr>\n",
       "    <tr>\n",
       "      <th>TIANJIN</th>\n",
       "      <td>17885.39</td>\n",
       "      <td>1562.12</td>\n",
       "    </tr>\n",
       "    <tr>\n",
       "      <th>CHONGQING</th>\n",
       "      <td>17558.76</td>\n",
       "      <td>NaN</td>\n",
       "    </tr>\n",
       "    <tr>\n",
       "      <th>SUZHOU</th>\n",
       "      <td>15475.09</td>\n",
       "      <td>1375.00</td>\n",
       "    </tr>\n",
       "    <tr>\n",
       "      <th>CHENGDU</th>\n",
       "      <td>12170.20</td>\n",
       "      <td>1591.76</td>\n",
       "    </tr>\n",
       "  </tbody>\n",
       "</table>\n",
       "</div>"
      ],
      "text/plain": [
       "                GDP  Population\n",
       "City_Name                      \n",
       "SHANGHAI   27466.15         NaN\n",
       "BEIJING    24899.30     2172.90\n",
       "GUANGZHOU       NaN     1350.11\n",
       "SHENZHEN        NaN     1137.87\n",
       "TIANJIN    17885.39     1562.12\n",
       "CHONGQING  17558.76         NaN\n",
       "SUZHOU     15475.09     1375.00\n",
       "CHENGDU    12170.20     1591.76"
      ]
     },
     "execution_count": 13,
     "metadata": {},
     "output_type": "execute_result"
    }
   ],
   "source": [
    "pd.read_csv('gdp-pop2.csv',index_col=0,na_values={'GDP':[19610.90,None]})  # 使用na_values来控制某列中出现的某个数据显示为NaN"
   ]
  },
  {
   "cell_type": "code",
   "execution_count": 14,
   "metadata": {},
   "outputs": [
    {
     "data": {
      "text/html": [
       "<div>\n",
       "<style scoped>\n",
       "    .dataframe tbody tr th:only-of-type {\n",
       "        vertical-align: middle;\n",
       "    }\n",
       "\n",
       "    .dataframe tbody tr th {\n",
       "        vertical-align: top;\n",
       "    }\n",
       "\n",
       "    .dataframe thead th {\n",
       "        text-align: right;\n",
       "    }\n",
       "</style>\n",
       "<table border=\"1\" class=\"dataframe\">\n",
       "  <thead>\n",
       "    <tr style=\"text-align: right;\">\n",
       "      <th></th>\n",
       "      <th>AQI</th>\n",
       "      <th>级别</th>\n",
       "      <th>首要污染物</th>\n",
       "    </tr>\n",
       "    <tr>\n",
       "      <th>城市</th>\n",
       "      <th></th>\n",
       "      <th></th>\n",
       "      <th></th>\n",
       "    </tr>\n",
       "  </thead>\n",
       "  <tbody>\n",
       "    <tr>\n",
       "      <th>九江市</th>\n",
       "      <td>62</td>\n",
       "      <td>良</td>\n",
       "      <td>PM10</td>\n",
       "    </tr>\n",
       "    <tr>\n",
       "      <th>新余市</th>\n",
       "      <td>87</td>\n",
       "      <td>良</td>\n",
       "      <td>PM2.5</td>\n",
       "    </tr>\n",
       "    <tr>\n",
       "      <th>鹰潭市</th>\n",
       "      <td>80</td>\n",
       "      <td>良</td>\n",
       "      <td>O3</td>\n",
       "    </tr>\n",
       "    <tr>\n",
       "      <th>赣州市</th>\n",
       "      <td>88</td>\n",
       "      <td>良</td>\n",
       "      <td>O3</td>\n",
       "    </tr>\n",
       "    <tr>\n",
       "      <th>吉安市</th>\n",
       "      <td>96</td>\n",
       "      <td>良</td>\n",
       "      <td>O3</td>\n",
       "    </tr>\n",
       "    <tr>\n",
       "      <th>宜春市</th>\n",
       "      <td>97</td>\n",
       "      <td>良</td>\n",
       "      <td>PM2.5</td>\n",
       "    </tr>\n",
       "    <tr>\n",
       "      <th>抚州市</th>\n",
       "      <td>74</td>\n",
       "      <td>良</td>\n",
       "      <td>PM2.5</td>\n",
       "    </tr>\n",
       "    <tr>\n",
       "      <th>济南市</th>\n",
       "      <td>108</td>\n",
       "      <td>轻度污染</td>\n",
       "      <td>O3</td>\n",
       "    </tr>\n",
       "    <tr>\n",
       "      <th>章丘市</th>\n",
       "      <td>102</td>\n",
       "      <td>轻度污染</td>\n",
       "      <td>O3</td>\n",
       "    </tr>\n",
       "    <tr>\n",
       "      <th>青岛市</th>\n",
       "      <td>146</td>\n",
       "      <td>轻度污染</td>\n",
       "      <td>O3</td>\n",
       "    </tr>\n",
       "  </tbody>\n",
       "</table>\n",
       "</div>"
      ],
      "text/plain": [
       "     AQI    级别  首要污染物\n",
       "城市                   \n",
       "九江市   62     良   PM10\n",
       "新余市   87     良  PM2.5\n",
       "鹰潭市   80     良     O3\n",
       "赣州市   88     良     O3\n",
       "吉安市   96     良     O3\n",
       "宜春市   97     良  PM2.5\n",
       "抚州市   74     良  PM2.5\n",
       "济南市  108  轻度污染     O3\n",
       "章丘市  102  轻度污染     O3\n",
       "青岛市  146  轻度污染     O3"
      ]
     },
     "execution_count": 14,
     "metadata": {},
     "output_type": "execute_result"
    }
   ],
   "source": [
    "# 控制读入几行数据\n",
    "pd.read_csv('aqi.csv',index_col=0,nrows=10)"
   ]
  },
  {
   "cell_type": "code",
   "execution_count": 15,
   "metadata": {},
   "outputs": [
    {
     "data": {
      "text/plain": [
       "<pandas.io.parsers.TextFileReader at 0x1aa3274e4a8>"
      ]
     },
     "execution_count": 15,
     "metadata": {},
     "output_type": "execute_result"
    }
   ],
   "source": [
    "# 分块读入\n",
    "api_chunk=pd.read_csv('aqi.csv',index_col=0,encoding='utf-8',chunksize=50)\n",
    "api_chunk"
   ]
  },
  {
   "cell_type": "code",
   "execution_count": 16,
   "metadata": {},
   "outputs": [
    {
     "name": "stdout",
     "output_type": "stream",
     "text": [
      "      AQI    级别     首要污染物\n",
      "城市                       \n",
      "九江市    62     良      PM10\n",
      "新余市    87     良     PM2.5\n",
      "鹰潭市    80     良        O3\n",
      "赣州市    88     良        O3\n",
      "吉安市    96     良        O3\n",
      "宜春市    97     良     PM2.5\n",
      "抚州市    74     良     PM2.5\n",
      "济南市   108  轻度污染        O3\n",
      "章丘市   102  轻度污染        O3\n",
      "青岛市   146  轻度污染        O3\n",
      "胶州市   146  轻度污染        O3\n",
      "即墨市   142  轻度污染        O3\n",
      "平度市   146  轻度污染        O3\n",
      "胶南市   157  中度污染        O3\n",
      "莱西市   135  轻度污染        O3\n",
      "淄博市   131  轻度污染        O3\n",
      "枣庄市   104  轻度污染      PM10\n",
      "东营市    88     良      PM10\n",
      "烟台市   137  轻度污染        O3\n",
      "莱州市   117  轻度污染        O3\n",
      "蓬莱市   184  中度污染        O3\n",
      "招远市   100     良        O3\n",
      "日照市   114  轻度污染        O3\n",
      "莱芜市   169  中度污染        O3\n",
      "临沂市   120  轻度污染        O3\n",
      "德州市    74     良        O3\n",
      "聊城市    85     良      PM10\n",
      "滨州市    76     良        O3\n",
      "菏泽市   130  轻度污染        O3\n",
      "郑州市   101  轻度污染  NO2,PM10\n",
      "开封市   115  轻度污染      PM10\n",
      "洛阳市    89     良      PM10\n",
      "平顶山市  136  轻度污染        O3\n",
      "安阳市    94     良      PM10\n",
      "鹤壁市    86     良      PM10\n",
      "新乡市   103  轻度污染       NO2\n",
      "焦作市   100     良      PM10\n",
      "濮阳市   127  轻度污染        O3\n",
      "许昌市   113  轻度污染        O3\n",
      "漯河市    95     良        O3\n",
      "三门峡市   79     良      PM10\n",
      "南阳市    84     良     PM2.5\n",
      "商丘市   102  轻度污染        O3\n",
      "信阳市    72     良      PM10\n",
      "周口市    92     良        O3\n",
      "武汉市    73     良     PM2.5\n",
      "黄石市    97     良     PM2.5\n",
      "十堰市    51     良      PM10\n",
      "宜昌市    47     优       NaN\n",
      "襄阳市    98     良     PM2.5\n",
      "      AQI    级别       首要污染物\n",
      "城市                         \n",
      "鄂州市    85     良       PM2.5\n",
      "荆门市    63     良       PM2.5\n",
      "孝感市    57     良       PM2.5\n",
      "荆州市    47     优         NaN\n",
      "黄冈市    78     良       PM2.5\n",
      "咸宁市    89     良       PM2.5\n",
      "随州市    74     良       PM2.5\n",
      "恩施州    36     优         NaN\n",
      "长沙市    93     良       PM2.5\n",
      "株洲市    94     良       PM2.5\n",
      "湘潭市    87     良       PM2.5\n",
      "衡阳市    89     良          O3\n",
      "邵阳市    98     良       PM2.5\n",
      "岳阳市    72     良       PM2.5\n",
      "常德市    48     优         NaN\n",
      "张家界市   42     优         NaN\n",
      "益阳市    55     良  PM10,PM2.5\n",
      "郴州市   171  中度污染          O3\n",
      "永州市    82     良          O3\n",
      "怀化市    72     良        PM10\n",
      "娄底市    85     良       PM2.5\n",
      "湘西州    60     良       PM2.5\n",
      "广州市   133  轻度污染          O3\n",
      "韶关市   120  轻度污染          O3\n",
      "深圳市    76     良          O3\n",
      "珠海市    60     良          O3\n",
      "汕头市   103  轻度污染          O3\n",
      "佛山市   121  轻度污染          O3\n",
      "江门市    90     良          O3\n",
      "湛江市    48     优         NaN\n",
      "茂名市    55     良          O3\n",
      "肇庆市   100     良          O3\n",
      "惠州市    98     良          O3\n",
      "梅州市    77     良          O3\n",
      "汕尾市    88     良          O3\n",
      "河源市    59     良          O3\n",
      "阳江市    64     良          O3\n",
      "清远市   127  轻度污染          O3\n",
      "东莞市   154  中度污染          O3\n",
      "中山市    78     良          O3\n",
      "潮州市   116  轻度污染          O3\n",
      "揭阳市   139  轻度污染          O3\n",
      "云浮市    79     良       PM2.5\n",
      "南宁市    41     优         NaN\n",
      "柳州市    48     优         NaN\n",
      "桂林市    60     良        PM10\n",
      "梧州市    82     良       PM2.5\n",
      "北海市    46     优         NaN\n",
      "防城港市   34     优         NaN\n",
      "钦州市    41     优         NaN\n",
      "       AQI 级别  首要污染物\n",
      "城市                  \n",
      "贵港市     49  优    NaN\n",
      "贺州市     99  良  PM2.5\n",
      "河池市     58  良   PM10\n",
      "来宾市     50  优    NaN\n",
      "崇左市     54  良  PM2.5\n",
      "海口市     35  优    NaN\n",
      "三亚市     28  优    NaN\n",
      "重庆市     38  优    NaN\n",
      "成都市     48  优    NaN\n",
      "自贡市     51  良   PM10\n",
      "攀枝花市    45  优    NaN\n",
      "泸州市     41  优    NaN\n",
      "德阳市     43  优    NaN\n",
      "绵阳市     45  优    NaN\n",
      "广元市     48  优    NaN\n",
      "遂宁市     41  优    NaN\n",
      "内江市     30  优    NaN\n",
      "乐山市     39  优    NaN\n",
      "南充市     49  优    NaN\n",
      "眉山市     44  优    NaN\n",
      "宜宾市     45  优    NaN\n",
      "广安市     36  优    NaN\n",
      "达州市     33  优    NaN\n",
      "雅安市     48  优    NaN\n",
      "巴中市     33  优    NaN\n",
      "资阳市     46  优    NaN\n",
      "阿坝州     28  优    NaN\n",
      "甘孜州     44  优    NaN\n",
      "凉山州     38  优    NaN\n",
      "贵阳市     41  优    NaN\n",
      "六盘水市    53  良   PM10\n",
      "遵义市     34  优    NaN\n",
      "安顺市     45  优    NaN\n",
      "铜仁地区    47  优    NaN\n",
      "黔西南州    24  优    NaN\n",
      "毕节市     36  优    NaN\n",
      "黔东南州    32  优    NaN\n",
      "黔南州     38  优    NaN\n",
      "昆明市     39  优    NaN\n",
      "曲靖市     33  优    NaN\n",
      "玉溪市     50  优    NaN\n",
      "保山市     25  优    NaN\n",
      "昭通市     46  优    NaN\n",
      "丽江市     23  优    NaN\n",
      "普洱市     24  优    NaN\n",
      "临沧市     28  优    NaN\n",
      "楚雄州     22  优    NaN\n",
      "红河州     37  优    NaN\n",
      "文山州     34  优    NaN\n",
      "西双版纳州   24  优    NaN\n",
      "       AQI 级别 首要污染物\n",
      "城市                 \n",
      "大理州     23  优   NaN\n",
      "德宏州     31  优   NaN\n",
      "怒江州     25  优   NaN\n",
      "迪庆州     32  优   NaN\n",
      "拉萨市     37  优   NaN\n",
      "昌都市     53  良  PM10\n",
      "山南市     24  优   NaN\n",
      "日喀则市    29  优   NaN\n",
      "那曲地区    46  优   NaN\n",
      "阿里地区    75  良    O3\n",
      "林芝市     23  优   NaN\n",
      "西安市     68  良   NO2\n",
      "铜川市     74  良  PM10\n",
      "宝鸡市     54  良  PM10\n",
      "咸阳市     65  良  PM10\n",
      "渭南市     79  良   NO2\n",
      "延安市     72  良  PM10\n",
      "汉中市     45  优   NaN\n",
      "榆林市     65  良   NO2\n",
      "安康市     40  优   NaN\n",
      "商洛市     54  良  PM10\n",
      "兰州市     67  良   NO2\n",
      "嘉峪关市    65  良    O3\n",
      "金昌市     55  良  PM10\n",
      "白银市     48  优   NaN\n",
      "天水市     55  良  PM10\n",
      "武威市     62  良  PM10\n",
      "张掖市     66  良    O3\n",
      "平凉市     48  优   NaN\n",
      "酒泉市     65  良    O3\n",
      "庆阳市     62  良  PM10\n",
      "定西市     54  良  PM10\n",
      "陇南市     41  优   NaN\n",
      "临夏州     38  优   NaN\n",
      "甘南州     39  优   NaN\n",
      "西宁市     62  良    O3\n",
      "海东地区    55  良    O3\n",
      "海北州     50  优   NaN\n",
      "黄南州     32  优   NaN\n",
      "海南州     44  优   NaN\n",
      "果洛州     55  良    O3\n",
      "玉树州     39  优   NaN\n",
      "海西州     59  良    O3\n",
      "银川市     69  良  PM10\n",
      "石嘴山市    65  良    O3\n",
      "吴忠市     69  良  PM10\n",
      "固原市     66  良  PM10\n",
      "中卫市     64  良  PM10\n",
      "乌鲁木齐市   80  良  PM10\n",
      "克拉玛依市   61  良    O3\n",
      "        AQI    级别      首要污染物\n",
      "城市                          \n",
      "吐鲁番地区    79     良       PM10\n",
      "哈密地区     71     良         O3\n",
      "昌吉州     100     良         O3\n",
      "博州       80     良         O3\n",
      "库尔勒市     73     良       PM10\n",
      "阿克苏地区    85     良       PM10\n",
      "克州       67     良         O3\n",
      "喀什地区     80     良         O3\n",
      "和田地区    192  中度污染       PM10\n",
      "伊犁哈萨克州   80     良       PM10\n",
      "塔城地区     50     优        NaN\n",
      "阿勒泰地区    42     优        NaN\n",
      "石河子市    100     良         O3\n",
      "五家渠市     87     良       PM10\n",
      "北京市      58     良        NO2\n",
      "天津市      65     良        NO2\n",
      "石家庄市     72     良        NO2\n",
      "唐山市      77     良       PM10\n",
      "秦皇岛市     70     良        NO2\n",
      "邯郸市      77     良   NO2,PM10\n",
      "邯郸市      77     良   NO2,PM10\n",
      "邢台市      78     良  NO2,臭氧8小时\n",
      "保定市      82     良         O3\n",
      "承德市      52     良       PM10\n",
      "沧州市      75     良         O3\n",
      "廊坊市      65     良        NO2\n",
      "衡水市      75     良         O3\n",
      "张家口市     48     优        NaN\n",
      "太原市      86     良       PM10\n",
      "大同市      55     良       PM10\n",
      "阳泉市      72     良       PM10\n",
      "长治市      93     良       PM10\n",
      "晋城市     105  轻度污染         CO\n",
      "朔州市      76     良       PM10\n",
      "晋中市      69     良       PM10\n",
      "运城市      90     良      PM2.5\n",
      "忻州市      65     良       PM10\n",
      "临汾市     110  轻度污染      PM2.5\n",
      "吕梁市      63     良       PM10\n",
      "呼和浩特市    53     良         O3\n",
      "包头市      56     良       PM10\n",
      "乌海市      64     良       PM10\n",
      "赤峰市      50     优        NaN\n",
      "通辽市      36     优        NaN\n",
      "鄂尔多斯市    58     良         O3\n",
      "呼伦贝尔市    28     优        NaN\n",
      "巴彦淖尔市    55     良       PM10\n",
      "乌兰察布市    64     良         O3\n",
      "兴安盟      28     优        NaN\n",
      "锡林郭勒盟    34     优        NaN\n",
      "        AQI    级别     首要污染物\n",
      "城市                         \n",
      "阿拉善盟     69     良        O3\n",
      "沈阳市      47     优       NaN\n",
      "大连市      81     良        O3\n",
      "瓦房店市     53     良      PM10\n",
      "鞍山市      61     良        O3\n",
      "抚顺市      49     优       NaN\n",
      "本溪市      50     优       NaN\n",
      "丹东市      70     良        O3\n",
      "锦州市      60     良      PM10\n",
      "营口市      69     良        O3\n",
      "阜新市      43     优       NaN\n",
      "辽阳市      55     良        O3\n",
      "盘锦市      49     优       NaN\n",
      "铁岭市      49     优       NaN\n",
      "朝阳市      56     良      PM10\n",
      "葫芦岛市     58     良      PM10\n",
      "长春市      43     优       NaN\n",
      "吉林市      47     优       NaN\n",
      "四平市      52     良        O3\n",
      "辽源市      77     良        O3\n",
      "通化市      74     良        O3\n",
      "白山市      70     良      PM10\n",
      "松原市      30     优       NaN\n",
      "白城市      43     优       NaN\n",
      "延边州      72     良        O3\n",
      "哈尔滨市     52     良  NO2,PM10\n",
      "齐齐哈尔市    39     优       NaN\n",
      "鸡西市      47     优       NaN\n",
      "鹤岗市      34     优       NaN\n",
      "双鸭山市     37     优       NaN\n",
      "大庆市      41     优       NaN\n",
      "伊春市      26     优       NaN\n",
      "佳木斯市     35     优       NaN\n",
      "七台河市     58     良      PM10\n",
      "牡丹江市     39     优       NaN\n",
      "黑河市      32     优       NaN\n",
      "绥化市      45     优       NaN\n",
      "大兴安岭地区   34     优       NaN\n",
      "上海市     135  轻度污染        O3\n",
      "南京市     100     良        O3\n",
      "无锡市      88     良     PM2.5\n",
      "江阴市     112  轻度污染     PM2.5\n",
      "宜兴市     113  轻度污染     PM2.5\n",
      "徐州市     108  轻度污染        O3\n",
      "常州市      95     良     PM2.5\n",
      "溧阳市      88     良     PM2.5\n",
      "金坛市      82     良     PM2.5\n",
      "苏州市      88     良     PM2.5\n",
      "常熟市      97     良     PM2.5\n",
      "张家港市    104  轻度污染     PM2.5\n",
      "      AQI    级别       首要污染物\n",
      "城市                         \n",
      "昆山市   119  轻度污染       PM2.5\n",
      "吴江市   113  轻度污染          O3\n",
      "太仓市   102  轻度污染       PM2.5\n",
      "南通市   101  轻度污染         NO2\n",
      "海门市    97     良       PM2.5\n",
      "连云港市   77     良       PM2.5\n",
      "淮安市    97     良       PM2.5\n",
      "盐城市   149  轻度污染       PM2.5\n",
      "扬州市   129  轻度污染       PM2.5\n",
      "镇江市   152  中度污染       PM2.5\n",
      "句容市   102  轻度污染       PM2.5\n",
      "泰州市   149  轻度污染       PM2.5\n",
      "宿迁市    99     良          O3\n",
      "杭州市   169  中度污染          O3\n",
      "富阳市   112  轻度污染       PM2.5\n",
      "临安市    98     良       PM2.5\n",
      "宁波市   102  轻度污染          O3\n",
      "温州市   116  轻度污染          O3\n",
      "嘉兴市   138  轻度污染          O3\n",
      "湖州市   114  轻度污染          O3\n",
      "金华市   116  轻度污染          O3\n",
      "义乌市   118  轻度污染          O3\n",
      "衢州市   115  轻度污染          O3\n",
      "舟山市   126  轻度污染          O3\n",
      "台州市   120  轻度污染          O3\n",
      "丽水市   103  轻度污染          O3\n",
      "绍兴市   145  轻度污染          O3\n",
      "合肥市    85     良       PM2.5\n",
      "芜湖市    79     良       PM2.5\n",
      "蚌埠市   100     良       PM2.5\n",
      "淮南市   107  轻度污染       PM2.5\n",
      "马鞍山市   87     良  PM10,PM2.5\n",
      "淮北市   114  轻度污染       PM2.5\n",
      "铜陵市    90     良         NO2\n",
      "安庆市    84     良       PM2.5\n",
      "黄山市    60     良        PM10\n",
      "滁州市   106  轻度污染          O3\n",
      "阜阳市    98     良        PM10\n",
      "宿州市    98     良       PM2.5\n",
      "六安市    66     良        PM10\n",
      "亳州市    94     良       PM2.5\n",
      "池州市    69     良       PM2.5\n",
      "宣城市    60     良        PM10\n",
      "福州市   101  轻度污染          O3\n",
      "厦门市    77     良          O3\n",
      "莆田市   115  轻度污染          O3\n",
      "三明市    91     良          O3\n",
      "泉州市   100     良          O3\n",
      "漳州市   126  轻度污染          O3\n",
      "南平市    95     良          O3\n",
      "      AQI    级别 首要污染物\n",
      "城市                   \n",
      "龙岩市    85     良    O3\n",
      "宁德市   110  轻度污染    O3\n",
      "南昌市    78     良  PM10\n",
      "景德镇市   68     良  PM10\n",
      "萍乡市   100     良    O3\n"
     ]
    }
   ],
   "source": [
    "for x in api_chunk:\n",
    "    print(x)"
   ]
  },
  {
   "cell_type": "code",
   "execution_count": 17,
   "metadata": {},
   "outputs": [
    {
     "data": {
      "text/plain": [
       "Series([], dtype: float64)"
      ]
     },
     "execution_count": 17,
     "metadata": {},
     "output_type": "execute_result"
    }
   ],
   "source": [
    "tot=pd.Series([])\n",
    "for city in api_chunk:\n",
    "    tot=tot.add(city['级别'].value_counts(),fill_value=0)\n",
    "tot"
   ]
  },
  {
   "cell_type": "code",
   "execution_count": 18,
   "metadata": {},
   "outputs": [],
   "source": [
    "# hdf5文件\n",
    "import h5py"
   ]
  },
  {
   "cell_type": "code",
   "execution_count": 19,
   "metadata": {},
   "outputs": [],
   "source": [
    "f=h5py.File('hdftest.hdf5','w')\n"
   ]
  },
  {
   "cell_type": "code",
   "execution_count": 20,
   "metadata": {},
   "outputs": [
    {
     "data": {
      "text/plain": [
       "<HDF5 file \"hdftest.hdf5\" (mode r+)>"
      ]
     },
     "execution_count": 20,
     "metadata": {},
     "output_type": "execute_result"
    }
   ],
   "source": [
    "f"
   ]
  },
  {
   "cell_type": "code",
   "execution_count": 21,
   "metadata": {},
   "outputs": [
    {
     "data": {
      "text/plain": [
       "<HDF5 dataset \"dataset1\": shape (99, 99), type \"<f4\">"
      ]
     },
     "execution_count": 21,
     "metadata": {},
     "output_type": "execute_result"
    }
   ],
   "source": [
    "# 创建dataset\n",
    "d=f.create_dataset(name='/dataset1',shape=(99,99))\n",
    "d"
   ]
  },
  {
   "cell_type": "code",
   "execution_count": 22,
   "metadata": {},
   "outputs": [
    {
     "data": {
      "text/plain": [
       "'/dataset1'"
      ]
     },
     "execution_count": 22,
     "metadata": {},
     "output_type": "execute_result"
    }
   ],
   "source": [
    "d.name"
   ]
  },
  {
   "cell_type": "code",
   "execution_count": 23,
   "metadata": {},
   "outputs": [
    {
     "data": {
      "text/plain": [
       "(99, 99)"
      ]
     },
     "execution_count": 23,
     "metadata": {},
     "output_type": "execute_result"
    }
   ],
   "source": [
    "d.shape"
   ]
  },
  {
   "cell_type": "code",
   "execution_count": 25,
   "metadata": {},
   "outputs": [
    {
     "data": {
      "text/plain": [
       "array([[0., 0., 0., ..., 0., 0., 0.],\n",
       "       [0., 0., 0., ..., 0., 0., 0.],\n",
       "       [0., 0., 0., ..., 0., 0., 0.],\n",
       "       ...,\n",
       "       [0., 0., 0., ..., 0., 0., 0.],\n",
       "       [0., 0., 0., ..., 0., 0., 0.],\n",
       "       [0., 0., 0., ..., 0., 0., 0.]], dtype=float32)"
      ]
     },
     "execution_count": 25,
     "metadata": {},
     "output_type": "execute_result"
    }
   ],
   "source": [
    "d[:]"
   ]
  },
  {
   "cell_type": "code",
   "execution_count": 26,
   "metadata": {},
   "outputs": [
    {
     "data": {
      "text/plain": [
       "'/group1'"
      ]
     },
     "execution_count": 26,
     "metadata": {},
     "output_type": "execute_result"
    }
   ],
   "source": [
    "# 创建group\n",
    "g=f.create_group('group1')\n",
    "g.name"
   ]
  },
  {
   "cell_type": "code",
   "execution_count": 27,
   "metadata": {},
   "outputs": [
    {
     "data": {
      "text/plain": [
       "'/group1/in_group1'"
      ]
     },
     "execution_count": 27,
     "metadata": {},
     "output_type": "execute_result"
    }
   ],
   "source": [
    "d2=g.create_dataset(name='in_group1',shape=(20,))\n",
    "d2.name"
   ]
  },
  {
   "cell_type": "code",
   "execution_count": 28,
   "metadata": {},
   "outputs": [
    {
     "data": {
      "text/plain": [
       "['dataset1', 'group1']"
      ]
     },
     "execution_count": 28,
     "metadata": {},
     "output_type": "execute_result"
    }
   ],
   "source": [
    "list(f.keys())"
   ]
  },
  {
   "cell_type": "code",
   "execution_count": 29,
   "metadata": {},
   "outputs": [
    {
     "data": {
      "text/plain": [
       "[('dataset1', <HDF5 dataset \"dataset1\": shape (99, 99), type \"<f4\">),\n",
       " ('group1', <HDF5 group \"/group1\" (1 members)>)]"
      ]
     },
     "execution_count": 29,
     "metadata": {},
     "output_type": "execute_result"
    }
   ],
   "source": [
    "list(f.items())"
   ]
  },
  {
   "cell_type": "code",
   "execution_count": 30,
   "metadata": {},
   "outputs": [
    {
     "data": {
      "text/plain": [
       "[<HDF5 dataset \"dataset1\": shape (99, 99), type \"<f4\">,\n",
       " <HDF5 group \"/group1\" (1 members)>]"
      ]
     },
     "execution_count": 30,
     "metadata": {},
     "output_type": "execute_result"
    }
   ],
   "source": [
    "list(f.values())"
   ]
  }
 ],
 "metadata": {
  "kernelspec": {
   "display_name": "Python 3",
   "language": "python",
   "name": "python3"
  },
  "language_info": {
   "codemirror_mode": {
    "name": "ipython",
    "version": 3
   },
   "file_extension": ".py",
   "mimetype": "text/x-python",
   "name": "python",
   "nbconvert_exporter": "python",
   "pygments_lexer": "ipython3",
   "version": "3.6.6"
  }
 },
 "nbformat": 4,
 "nbformat_minor": 2
}
